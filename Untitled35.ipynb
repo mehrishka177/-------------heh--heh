{
  "nbformat": 4,
  "nbformat_minor": 0,
  "metadata": {
    "colab": {
      "provenance": [],
      "authorship_tag": "ABX9TyP/Rcj2BkW1CGarCdBrilXo",
      "include_colab_link": true
    },
    "kernelspec": {
      "name": "python3",
      "display_name": "Python 3"
    },
    "language_info": {
      "name": "python"
    }
  },
  "cells": [
    {
      "cell_type": "markdown",
      "metadata": {
        "id": "view-in-github",
        "colab_type": "text"
      },
      "source": [
        "<a href=\"https://colab.research.google.com/github/mehrishka177/-------------heh--heh/blob/main/Untitled35.ipynb\" target=\"_parent\"><img src=\"https://colab.research.google.com/assets/colab-badge.svg\" alt=\"Open In Colab\"/></a>"
      ]
    },
    {
      "cell_type": "code",
      "execution_count": null,
      "metadata": {
        "id": "PPRu0PMzJW-W"
      },
      "outputs": [],
      "source": [
        "import sqlite3\n",
        "\n",
        "# Step 1: Connect to SQLite database (or create it if it doesn't exist)\n",
        "conn = sqlite3.connect('example.db')  # This creates a file named 'example.db'\n",
        "cursor = conn.cursor()\n",
        "\n",
        "# Step 2: Create a table\n",
        "cursor.execute('''\n",
        "    CREATE TABLE IF NOT EXISTS students (\n",
        "        id INTEGER PRIMARY KEY AUTOINCREMENT,\n",
        "        name TEXT NOT NULL,\n",
        "        age INTEGER,\n",
        "        score REAL\n",
        "    )\n",
        "''')\n",
        "\n",
        "# Step 3: Insert sample data\n",
        "students_data = [\n",
        "    ('Alice', 21, 85.5),\n",
        "    ('Bob', 22, 92.0),\n",
        "    ('Charlie', 20, 78.3)\n",
        "]\n",
        "cursor.executemany('INSERT INTO students (name, age, score) VALUES (?, ?, ?)', students_data)\n",
        "\n",
        "# Step 4: Commit the changes\n",
        "conn.commit()\n",
        "\n",
        "# Step 5: Query the database\n",
        "cursor.execute('SELECT * FROM students')\n",
        "rows = cursor.fetchall()\n",
        "\n",
        "# Step 6: Display the results\n",
        "print(\"📋 Students Table:\")\n",
        "for row in rows:\n",
        "    print(row)\n",
        "\n",
        "# Step 7: Close the connection\n",
        "conn.close()\n"
      ]
    }
  ]
}