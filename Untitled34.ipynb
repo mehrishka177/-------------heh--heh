{
  "nbformat": 4,
  "nbformat_minor": 0,
  "metadata": {
    "colab": {
      "provenance": [],
      "authorship_tag": "ABX9TyMoTYW5SMwOndpgeGnz4tVb",
      "include_colab_link": true
    },
    "kernelspec": {
      "name": "python3",
      "display_name": "Python 3"
    },
    "language_info": {
      "name": "python"
    }
  },
  "cells": [
    {
      "cell_type": "markdown",
      "metadata": {
        "id": "view-in-github",
        "colab_type": "text"
      },
      "source": [
        "<a href=\"https://colab.research.google.com/github/mehrishka177/-------------heh--heh/blob/main/Untitled34.ipynb\" target=\"_parent\"><img src=\"https://colab.research.google.com/assets/colab-badge.svg\" alt=\"Open In Colab\"/></a>"
      ]
    },
    {
      "cell_type": "code",
      "execution_count": null,
      "metadata": {
        "id": "WYcqNH9FJLOz"
      },
      "outputs": [],
      "source": [
        "import pandas as pd\n",
        "import numpy as np\n",
        "import matplotlib.pyplot as plt\n",
        "import seaborn as sns\n",
        "\n",
        "# Step 1: Generate a random table\n",
        "def create_random_table(rows=10):\n",
        "    data = {\n",
        "        'ID': range(1, rows + 1),\n",
        "        'Name': [f'Person_{i}' for i in range(1, rows + 1)],\n",
        "        'Score': np.random.randint(50, 100, size=rows),\n",
        "        'Age': np.random.randint(18, 30, size=rows),\n",
        "        'Passed': np.random.choice([True, False], size=rows)\n",
        "    }\n",
        "    return pd.DataFrame(data)\n",
        "\n",
        "# Step 2: Play with the table\n",
        "def explore_table(df):\n",
        "    print(\"📋 Full Table:\\n\", df, \"\\n\")\n",
        "    print(\"📈 Summary Stats:\\n\", df.describe(), \"\\n\")\n",
        "    print(\"✅ Students Who Passed:\\n\", df[df['Passed'] == True], \"\\n\")\n",
        "    print(\"🔢 Sorted by Score:\\n\", df.sort_values(by='Score', ascending=False), \"\\n\")\n",
        "\n",
        "    # Visualization\n",
        "    plt.figure(figsize=(10, 6))\n",
        "    sns.barplot(x='Name', y='Score', hue='Passed', data=df, palette='Set2')\n",
        "    plt.xticks(rotation=45)\n",
        "    plt.title('Scores of Students')\n",
        "    plt.tight_layout()\n",
        "    plt.show()\n",
        "\n",
        "# Main\n",
        "if __name__ == \"__main__\":\n",
        "    df = create_random_table(rows=15)\n",
        "    explore_table(df)\n"
      ]
    }
  ]
}