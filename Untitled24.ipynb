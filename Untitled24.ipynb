{
  "nbformat": 4,
  "nbformat_minor": 0,
  "metadata": {
    "colab": {
      "provenance": [],
      "authorship_tag": "ABX9TyMO+XWDVfUWkIqfsVrtxgax",
      "include_colab_link": true
    },
    "kernelspec": {
      "name": "python3",
      "display_name": "Python 3"
    },
    "language_info": {
      "name": "python"
    }
  },
  "cells": [
    {
      "cell_type": "markdown",
      "metadata": {
        "id": "view-in-github",
        "colab_type": "text"
      },
      "source": [
        "<a href=\"https://colab.research.google.com/github/mehrishka177/-------------heh--heh/blob/main/Untitled24.ipynb\" target=\"_parent\"><img src=\"https://colab.research.google.com/assets/colab-badge.svg\" alt=\"Open In Colab\"/></a>"
      ]
    },
    {
      "cell_type": "code",
      "execution_count": null,
      "metadata": {
        "id": "tONX2WvTQ-Wz"
      },
      "outputs": [],
      "source": [
        "import matplotlib.pylon as plt\n",
        "x=[0,5,10,15,20,25,30]\n",
        "y1=[10,15,20,20,30,15,0]\n",
        "y2=[10,12,15,12,20,10,0]\n",
        "plt.plot(x,y1,linestyle='dashed', marker='D')\n",
        "plt.plot(x,y2,linestyle='dashed', marker='D')\n",
        "plt.title('velocity-Time_Graph')\n",
        "plt.xlabel('Velocity m/s')\n",
        "plt.ylabel('Time(s)')\n",
        "plt.xlim(5/25)\n",
        "plt.ylim(5/25)\n",
        "plt.legend()\n",
        "plt.show()"
      ]
    }
  ]
}