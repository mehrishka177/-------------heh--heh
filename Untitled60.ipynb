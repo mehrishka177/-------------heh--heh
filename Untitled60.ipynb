{
  "nbformat": 4,
  "nbformat_minor": 0,
  "metadata": {
    "colab": {
      "provenance": [],
      "authorship_tag": "ABX9TyPKz1814udDsg00cr/KmA2P",
      "include_colab_link": true
    },
    "kernelspec": {
      "name": "python3",
      "display_name": "Python 3"
    },
    "language_info": {
      "name": "python"
    }
  },
  "cells": [
    {
      "cell_type": "markdown",
      "metadata": {
        "id": "view-in-github",
        "colab_type": "text"
      },
      "source": [
        "<a href=\"https://colab.research.google.com/github/mehrishka177/-------------heh--heh/blob/main/Untitled60.ipynb\" target=\"_parent\"><img src=\"https://colab.research.google.com/assets/colab-badge.svg\" alt=\"Open In Colab\"/></a>"
      ]
    },
    {
      "cell_type": "code",
      "execution_count": null,
      "metadata": {
        "id": "Jn_SSOze9zUo"
      },
      "outputs": [],
      "source": [
        "import random\n",
        "\n",
        "def coin_flip_probability(n_flips):\n",
        "    heads = 0\n",
        "    tails = 0\n",
        "\n",
        "    for _ in range(n_flips):\n",
        "        if random.choice(['H', 'T']) == 'H':\n",
        "            heads += 1\n",
        "        else:\n",
        "            tails += 1\n",
        "\n",
        "    prob_heads = heads / n_flips\n",
        "    prob_tails = tails / n_flips\n",
        "\n",
        "    print(f\"Total Flips: {n_flips}\")\n",
        "    print(f\"Heads: {heads} ({prob_heads:.2f})\")\n",
        "    print(f\"Tails: {tails} ({prob_tails:.2f})\")\n",
        "\n",
        "# Example usage\n",
        "coin_flip_probability(1000)\n"
      ]
    }
  ]
}