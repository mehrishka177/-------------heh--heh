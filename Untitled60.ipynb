{
  "nbformat": 4,
  "nbformat_minor": 0,
  "metadata": {
    "colab": {
      "provenance": [],
      "authorship_tag": "ABX9TyPkA1Voa2kiCYTxvK5FsT7+",
      "include_colab_link": true
    },
    "kernelspec": {
      "name": "python3",
      "display_name": "Python 3"
    },
    "language_info": {
      "name": "python"
    }
  },
  "cells": [
    {
      "cell_type": "markdown",
      "metadata": {
        "id": "view-in-github",
        "colab_type": "text"
      },
      "source": [
        "<a href=\"https://colab.research.google.com/github/mehrishka177/-------------heh--heh/blob/main/Untitled60.ipynb\" target=\"_parent\"><img src=\"https://colab.research.google.com/assets/colab-badge.svg\" alt=\"Open In Colab\"/></a>"
      ]
    },
    {
      "cell_type": "code",
      "execution_count": null,
      "metadata": {
        "id": "ANzTHSXB-G9e"
      },
      "outputs": [],
      "source": [
        "import random\n",
        "\n",
        "def simulate_mixed_events(n_events):\n",
        "    results = {\n",
        "        'Coin': {'Heads': 0, 'Tails': 0},\n",
        "        'Dice': {i: 0 for i in range(1, 7)},\n",
        "        'Spinner': {'Red': 0, 'Green': 0, 'Blue': 0}\n",
        "    }\n",
        "\n",
        "    for _ in range(n_events):\n",
        "        event_type = random.choice(['Coin', 'Dice', 'Spinner'])\n",
        "\n",
        "        if event_type == 'Coin':\n",
        "            outcome = random.choice(['Heads', 'Tails'])\n",
        "            results['Coin'][outcome] += 1\n",
        "\n",
        "        elif event_type == 'Dice':\n",
        "            outcome = random.randint(1, 6)\n",
        "            results['Dice'][outcome] += 1\n",
        "\n",
        "        elif event_type == 'Spinner':\n",
        "            outcome = random.choice(['Red', 'Green', 'Blue'])\n",
        "            results['Spinner'][outcome] += 1\n",
        "\n",
        "    # Print results\n",
        "    print(\"=== Simulation Results ===\")\n",
        "    for event, outcomes in results.items():\n",
        "        print(f\"\\n{event} outcomes:\")\n",
        "        total = sum(outcomes.values())\n",
        "        for outcome, count in outcomes.items():\n",
        "            prob = count / n_events\n",
        "            print(f\"  {outcome}: {count} ({prob:.2%} of total events)\")\n",
        "\n",
        "# Example usage\n",
        "simulate_mixed_events(1000)\n"
      ]
    }
  ]
}