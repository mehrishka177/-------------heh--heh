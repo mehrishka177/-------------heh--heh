{
  "nbformat": 4,
  "nbformat_minor": 0,
  "metadata": {
    "colab": {
      "provenance": [],
      "authorship_tag": "ABX9TyNAt1NMQSpJQDyjrZs+/SQt",
      "include_colab_link": true
    },
    "kernelspec": {
      "name": "python3",
      "display_name": "Python 3"
    },
    "language_info": {
      "name": "python"
    }
  },
  "cells": [
    {
      "cell_type": "markdown",
      "metadata": {
        "id": "view-in-github",
        "colab_type": "text"
      },
      "source": [
        "<a href=\"https://colab.research.google.com/github/mehrishka177/-------------heh--heh/blob/main/Untitled25.ipynb\" target=\"_parent\"><img src=\"https://colab.research.google.com/assets/colab-badge.svg\" alt=\"Open In Colab\"/></a>"
      ]
    },
    {
      "cell_type": "code",
      "execution_count": null,
      "metadata": {
        "id": "ikNXXY7ZTNVL"
      },
      "outputs": [],
      "source": [
        "import matplotlib.pylot as plt\n",
        "import numpy as np\n",
        "y1=(2*x)+1\n",
        "y2=(2*x*x)+2\n",
        "plt.pylot(x,y1,'g', linewidth-3,label='y=(2x)+1')\n",
        "plt.pylot(x, y2, 'r', linewidth-3,label='y=(2x)+1')\n",
        "plt.legend()\n",
        "plt.show()"
      ]
    }
  ]
}