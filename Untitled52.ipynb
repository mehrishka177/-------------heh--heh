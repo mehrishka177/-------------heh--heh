{
  "nbformat": 4,
  "nbformat_minor": 0,
  "metadata": {
    "colab": {
      "provenance": [],
      "authorship_tag": "ABX9TyN0I3wkRuwAokFF+YA5vbr5",
      "include_colab_link": true
    },
    "kernelspec": {
      "name": "python3",
      "display_name": "Python 3"
    },
    "language_info": {
      "name": "python"
    }
  },
  "cells": [
    {
      "cell_type": "markdown",
      "metadata": {
        "id": "view-in-github",
        "colab_type": "text"
      },
      "source": [
        "<a href=\"https://colab.research.google.com/github/mehrishka177/-------------heh--heh/blob/main/Untitled52.ipynb\" target=\"_parent\"><img src=\"https://colab.research.google.com/assets/colab-badge.svg\" alt=\"Open In Colab\"/></a>"
      ]
    },
    {
      "cell_type": "code",
      "execution_count": null,
      "metadata": {
        "id": "XIv3mzJX733e"
      },
      "outputs": [],
      "source": [
        "# Total balls\n",
        "total_balls = 10\n",
        "orange_balls = 6\n",
        "blue_balls = 4\n",
        "\n",
        "# Event A: Select an orange ball first\n",
        "P_A = orange_balls / total_balls\n",
        "\n",
        "# After removing 1 orange ball, total balls become 9\n",
        "# Event B: Select a blue ball second (without replacement)\n",
        "P_B_given_A = blue_balls / (total_balls - 1)\n",
        "\n",
        "# Multiplication Rule: P(A and B)\n",
        "P_A_and_B = P_A * P_B_given_A\n",
        "\n",
        "print(f\"P(A): Probability of picking an orange ball first = {P_A:.3f}\")\n",
        "print(f\"P(B | A): Probability of picking a blue ball second (after orange) = {P_B_given_A:.3f}\")\n",
        "print(f\"P(A ∩ B): Probability of both events = {P_A_and_B:.3f}\")\n"
      ]
    }
  ]
}