{
  "nbformat": 4,
  "nbformat_minor": 0,
  "metadata": {
    "colab": {
      "provenance": [],
      "authorship_tag": "ABX9TyPcCCfrUJcr+v1dtS7fWhaV",
      "include_colab_link": true
    },
    "kernelspec": {
      "name": "python3",
      "display_name": "Python 3"
    },
    "language_info": {
      "name": "python"
    }
  },
  "cells": [
    {
      "cell_type": "markdown",
      "metadata": {
        "id": "view-in-github",
        "colab_type": "text"
      },
      "source": [
        "<a href=\"https://colab.research.google.com/github/mehrishka177/-------------heh--heh/blob/main/Untitled59.ipynb\" target=\"_parent\"><img src=\"https://colab.research.google.com/assets/colab-badge.svg\" alt=\"Open In Colab\"/></a>"
      ]
    },
    {
      "cell_type": "code",
      "execution_count": null,
      "metadata": {
        "id": "fJkQzoNc9SgL"
      },
      "outputs": [],
      "source": [
        "import random\n",
        "\n",
        "def flip_coin(n_flips):\n",
        "    heads = 0\n",
        "    tails = 0\n",
        "\n",
        "    for _ in range(n_flips):\n",
        "        if random.choice(['H', 'T']) == 'H':\n",
        "            heads += 1\n",
        "        else:\n",
        "            tails += 1\n",
        "\n",
        "    print(f\"Total Flips: {n_flips}\")\n",
        "    print(f\"Heads: {heads}\")\n",
        "    print(f\"Tails: {tails}\")\n",
        "\n",
        "# Example usage\n",
        "flip_coin(10)\n"
      ]
    }
  ]
}