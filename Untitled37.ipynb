{
  "nbformat": 4,
  "nbformat_minor": 0,
  "metadata": {
    "colab": {
      "provenance": [],
      "authorship_tag": "ABX9TyNPF11V1dIjZUiE7UUYV09k",
      "include_colab_link": true
    },
    "kernelspec": {
      "name": "python3",
      "display_name": "Python 3"
    },
    "language_info": {
      "name": "python"
    }
  },
  "cells": [
    {
      "cell_type": "markdown",
      "metadata": {
        "id": "view-in-github",
        "colab_type": "text"
      },
      "source": [
        "<a href=\"https://colab.research.google.com/github/mehrishka177/-------------heh--heh/blob/main/Untitled37.ipynb\" target=\"_parent\"><img src=\"https://colab.research.google.com/assets/colab-badge.svg\" alt=\"Open In Colab\"/></a>"
      ]
    },
    {
      "cell_type": "code",
      "execution_count": null,
      "metadata": {
        "id": "e9-LpIbxO7WZ"
      },
      "outputs": [],
      "source": [
        "import random\n",
        "\n",
        "dog_breeds = [\n",
        "    \"Labrador Retriever\",\n",
        "    \"German Shepherd\",\n",
        "    \"Golden Retriever\",\n",
        "    \"Bulldog\",\n",
        "    \"Beagle\",\n",
        "    \"Poodle\",\n",
        "    \"Rottweiler\",\n",
        "    \"Yorkshire Terrier\",\n",
        "    \"Boxer\",\n",
        "    \"Dachshund\"\n",
        "]\n",
        "\n",
        "def random_dog_breed():\n",
        "    breed = random.choice(dog_breeds)\n",
        "    print(f\"Your random dog breed is: {breed}\")\n",
        "\n",
        "if __name__ == \"__main__\":\n",
        "    random_dog_breed()\n"
      ]
    }
  ]
}