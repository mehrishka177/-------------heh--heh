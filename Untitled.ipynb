{
  "nbformat": 4,
  "nbformat_minor": 0,
  "metadata": {
    "colab": {
      "provenance": [],
      "authorship_tag": "ABX9TyO2+X2xHP4hGIaEq0+t7LnR",
      "include_colab_link": true
    },
    "kernelspec": {
      "name": "python3",
      "display_name": "Python 3"
    },
    "language_info": {
      "name": "python"
    }
  },
  "cells": [
    {
      "cell_type": "markdown",
      "metadata": {
        "id": "view-in-github",
        "colab_type": "text"
      },
      "source": [
        "<a href=\"https://colab.research.google.com/github/mehrishka177/-------------heh--heh/blob/main/Untitled.ipynb\" target=\"_parent\"><img src=\"https://colab.research.google.com/assets/colab-badge.svg\" alt=\"Open In Colab\"/></a>"
      ]
    },
    {
      "cell_type": "code",
      "execution_count": null,
      "metadata": {
        "id": "nokCWRPsnUZO"
      },
      "outputs": [],
      "source": [
        "# Get user input\n",
        "s1_input = input(\"Enter your friends (comma-separated): \").split(',')\n",
        "s2_input = input(\"Enter your sibling's friends (comma-separated): \").split(',')\n",
        "\n",
        "# Convert to sets and strip spaces\n",
        "S1 = {friend.strip() for friend in s1_input}\n",
        "S2 = {friend.strip() for friend in s2_input}\n",
        "\n",
        "# Find intersection\n",
        "common_guests = S1 & S2\n",
        "\n",
        "# Show results\n",
        "print(\"\\nFinal Invited Friends (common to both lists):\", common_guests)\n"
      ]
    }
  ]
}