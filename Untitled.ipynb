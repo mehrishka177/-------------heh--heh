{
  "nbformat": 4,
  "nbformat_minor": 0,
  "metadata": {
    "colab": {
      "provenance": [],
      "authorship_tag": "ABX9TyPNpD48a4jdx+VPjV1C7Ohf",
      "include_colab_link": true
    },
    "kernelspec": {
      "name": "python3",
      "display_name": "Python 3"
    },
    "language_info": {
      "name": "python"
    }
  },
  "cells": [
    {
      "cell_type": "markdown",
      "metadata": {
        "id": "view-in-github",
        "colab_type": "text"
      },
      "source": [
        "<a href=\"https://colab.research.google.com/github/mehrishka177/-------------heh--heh/blob/main/Untitled.ipynb\" target=\"_parent\"><img src=\"https://colab.research.google.com/assets/colab-badge.svg\" alt=\"Open In Colab\"/></a>"
      ]
    },
    {
      "cell_type": "code",
      "execution_count": null,
      "metadata": {
        "id": "UNxIYBd3OHH7"
      },
      "outputs": [],
      "source": [
        "def reverse_bits(n, bit_size=8):\n",
        "    reversed_num = 0\n",
        "    for i in range(bit_size):\n",
        "        # Shift reversed_num to the left to make room\n",
        "        reversed_num <<= 1\n",
        "        # Add the least significant bit of n\n",
        "        reversed_num |= (n & 1)\n",
        "        # Shift n to the right to process next bit\n",
        "        n >>= 1\n",
        "    return reversed_num\n",
        "\n",
        "# Example usage:\n",
        "num = 13  # binary: 00001101\n",
        "bit_size = 8\n",
        "reversed_num = reverse_bits(num, bit_size)\n",
        "print(f\"Original: {num} ({num:08b})\")\n",
        "print(f\"Reversed: {reversed_num} ({reversed_num:08b})\")\n"
      ]
    }
  ]
}