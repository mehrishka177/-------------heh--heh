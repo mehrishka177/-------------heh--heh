{
  "nbformat": 4,
  "nbformat_minor": 0,
  "metadata": {
    "colab": {
      "provenance": [],
      "authorship_tag": "ABX9TyP/5cdpybNfc3+fLcIslGyu",
      "include_colab_link": true
    },
    "kernelspec": {
      "name": "python3",
      "display_name": "Python 3"
    },
    "language_info": {
      "name": "python"
    }
  },
  "cells": [
    {
      "cell_type": "markdown",
      "metadata": {
        "id": "view-in-github",
        "colab_type": "text"
      },
      "source": [
        "<a href=\"https://colab.research.google.com/github/mehrishka177/-------------heh--heh/blob/main/Untitled29.ipynb\" target=\"_parent\"><img src=\"https://colab.research.google.com/assets/colab-badge.svg\" alt=\"Open In Colab\"/></a>"
      ]
    },
    {
      "cell_type": "code",
      "execution_count": null,
      "metadata": {
        "id": "99iJ_6fSqHg2"
      },
      "outputs": [],
      "source": [
        "# Import necessary libraries\n",
        "import pandas as pd\n",
        "from sklearn.model_selection import train_test_split\n",
        "from sklearn.linear_model import LinearRegression\n",
        "from sklearn.metrics import mean_squared_error, r2_score\n",
        "\n",
        "# Load the dataset\n",
        "# Example: dataset should contain columns like 'Area', 'Bedrooms', 'Bathrooms', 'Location', 'Rent'\n",
        "df = pd.read_csv(\"house_rent_data.csv\")\n",
        "\n",
        "# Handle categorical data if any (e.g., Location)\n",
        "df = pd.get_dummies(df, columns=['Location'], drop_first=True)\n",
        "\n",
        "# Features and target variable\n",
        "X = df.drop(['Rent'], axis=1)\n",
        "y = df['Rent']\n",
        "\n",
        "# Split data into training and testing sets\n",
        "X_train, X_test, y_train, y_test = train_test_split(X, y, test_size=0.2, random_state=42)\n",
        "\n",
        "# Create and train the model\n",
        "model = LinearRegression()\n",
        "model.fit(X_train, y_train)\n",
        "\n",
        "# Make predictions\n",
        "y_pred = model.predict(X_test)\n",
        "\n",
        "# Evaluate the model\n",
        "mse = mean_squared_error(y_test, y_pred)\n",
        "r2 = r2_score(y_test, y_pred)\n",
        "\n",
        "print(f\"Mean Squared Error: {mse}\")\n",
        "print(f\"R^2 Score: {r2}\")\n",
        "\n",
        "# Predict rent for a new house (example input)\n",
        "# Replace the input below with real values and match the encoded features\n",
        "import numpy as np\n",
        "new_house = np.array([[1200, 3, 2, 0, 1, 0]])  # Adjust based on encoded Location columns\n",
        "predicted_rent = model.predict(new_house)\n",
        "print(f\"Predicted Rent: {predicted_rent[0]}\")\n",
        ""
      ]
    }
  ]
}