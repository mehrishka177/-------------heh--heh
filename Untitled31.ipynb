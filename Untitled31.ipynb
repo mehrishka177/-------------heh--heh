{
  "nbformat": 4,
  "nbformat_minor": 0,
  "metadata": {
    "colab": {
      "provenance": [],
      "authorship_tag": "ABX9TyP+xpcVg51HCaKMV2ZqVzIV",
      "include_colab_link": true
    },
    "kernelspec": {
      "name": "python3",
      "display_name": "Python 3"
    },
    "language_info": {
      "name": "python"
    }
  },
  "cells": [
    {
      "cell_type": "markdown",
      "metadata": {
        "id": "view-in-github",
        "colab_type": "text"
      },
      "source": [
        "<a href=\"https://colab.research.google.com/github/mehrishka177/-------------heh--heh/blob/main/Untitled31.ipynb\" target=\"_parent\"><img src=\"https://colab.research.google.com/assets/colab-badge.svg\" alt=\"Open In Colab\"/></a>"
      ]
    },
    {
      "cell_type": "code",
      "execution_count": null,
      "metadata": {
        "id": "i83o2GxXIDvI"
      },
      "outputs": [],
      "source": [
        "import statistics\n",
        "\n",
        "# Sample list of numbers\n",
        "data = [4, 2, 7, 3, 7, 2, 9, 10, 7]\n",
        "\n",
        "# Calculate Mean\n",
        "mean_value = statistics.mean(data)\n",
        "\n",
        "# Calculate Median\n",
        "median_value = statistics.median(data)\n",
        "\n",
        "# Calculate Mode\n",
        "try:\n",
        "    mode_value = statistics.mode(data)\n",
        "except statistics.StatisticsError:\n",
        "    mode_value = \"No unique mode found\"\n",
        "\n",
        "# Display Results\n",
        "print(f\"Data: {data}\")\n",
        "print(f\"Mean: {mean_value}\")\n",
        "print(f\"Median: {median_value}\")\n",
        "print(f\"Mode: {mode_value}\")\n"
      ]
    }
  ]
}