{
  "nbformat": 4,
  "nbformat_minor": 0,
  "metadata": {
    "colab": {
      "provenance": [],
      "authorship_tag": "ABX9TyPv0CGkALadtr4f3BsE9oP7",
      "include_colab_link": true
    },
    "kernelspec": {
      "name": "python3",
      "display_name": "Python 3"
    },
    "language_info": {
      "name": "python"
    }
  },
  "cells": [
    {
      "cell_type": "markdown",
      "metadata": {
        "id": "view-in-github",
        "colab_type": "text"
      },
      "source": [
        "<a href=\"https://colab.research.google.com/github/mehrishka177/-------------heh--heh/blob/main/Untitled26.ipynb\" target=\"_parent\"><img src=\"https://colab.research.google.com/assets/colab-badge.svg\" alt=\"Open In Colab\"/></a>"
      ]
    },
    {
      "cell_type": "code",
      "execution_count": null,
      "metadata": {
        "id": "VM162SHsZM1A"
      },
      "outputs": [],
      "source": [
        "import numpy as np\n",
        "import matplotlib.pyplot as plt\n",
        "\n",
        "# Generate random x values\n",
        "x = np.linspace(0, 10, 100)\n",
        "\n",
        "# Generate y values with sine function and add some random noise\n",
        "y = np.sin(x) + np.random.normal(0, 0.2, size=x.shape)\n",
        "\n",
        "# Create the line plot\n",
        "plt.figure(figsize=(10, 5))\n",
        "plt.plot(x, y, label='Noisy Sine Wave', color='blue', linestyle='-', marker='o', markersize=3)\n",
        "\n",
        "# Add labels and title\n",
        "plt.title(\"Random Noisy Sine Wave Line Plot\")\n",
        "plt.xlabel(\"X Axis\")\n",
        "plt.ylabel(\"Y Axis\")\n",
        "plt.legend()\n",
        "plt.grid(True)\n",
        "\n",
        "# Show the plot\n",
        "plt.show()\n"
      ]
    }
  ]
}