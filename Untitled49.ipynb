{
  "nbformat": 4,
  "nbformat_minor": 0,
  "metadata": {
    "colab": {
      "provenance": [],
      "authorship_tag": "ABX9TyN8HkIM9VvQmMK/0y35RUcV",
      "include_colab_link": true
    },
    "kernelspec": {
      "name": "python3",
      "display_name": "Python 3"
    },
    "language_info": {
      "name": "python"
    }
  },
  "cells": [
    {
      "cell_type": "markdown",
      "metadata": {
        "id": "view-in-github",
        "colab_type": "text"
      },
      "source": [
        "<a href=\"https://colab.research.google.com/github/mehrishka177/-------------heh--heh/blob/main/Untitled49.ipynb\" target=\"_parent\"><img src=\"https://colab.research.google.com/assets/colab-badge.svg\" alt=\"Open In Colab\"/></a>"
      ]
    },
    {
      "cell_type": "code",
      "execution_count": null,
      "metadata": {
        "id": "pHOxeMbe57-t"
      },
      "outputs": [],
      "source": [
        "import random\n",
        "\n",
        "def pick_ball_experimet():\n",
        "    balls = ['Blue', 'Red', 'Green']\n",
        "\n",
        "    result = random.choise(balls)\n",
        "\n",
        "    pro = balls.count('Red')/len(balls)\n",
        "    print(\"probability of picking red is:\", pro)\n",
        "\n",
        "    if result == 'Red':\n",
        "        return 'Red Ball was Picked'\n",
        "    else:\n",
        "        return 'Better Luck next time'\n",
        "\n",
        "res = pick_ball_experement()\n",
        "print(res)"
      ]
    }
  ]
}