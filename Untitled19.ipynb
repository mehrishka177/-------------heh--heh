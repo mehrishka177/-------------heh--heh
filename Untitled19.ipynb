{
  "nbformat": 4,
  "nbformat_minor": 0,
  "metadata": {
    "colab": {
      "provenance": [],
      "authorship_tag": "ABX9TyN4dyJIjXI1Bxbu2z3qSOHy",
      "include_colab_link": true
    },
    "kernelspec": {
      "name": "python3",
      "display_name": "Python 3"
    },
    "language_info": {
      "name": "python"
    }
  },
  "cells": [
    {
      "cell_type": "markdown",
      "metadata": {
        "id": "view-in-github",
        "colab_type": "text"
      },
      "source": [
        "<a href=\"https://colab.research.google.com/github/mehrishka177/-------------heh--heh/blob/main/Untitled19.ipynb\" target=\"_parent\"><img src=\"https://colab.research.google.com/assets/colab-badge.svg\" alt=\"Open In Colab\"/></a>"
      ]
    },
    {
      "cell_type": "code",
      "execution_count": null,
      "metadata": {
        "id": "m4uj07YQg09S"
      },
      "outputs": [],
      "source": [
        "import sqlite3\n",
        "import numpy as np\n",
        "import pandas as pd\n",
        "from datetime import datetime\n",
        "\n",
        "conn = sqlite3.connect(\"setup_values.db\")\n",
        "cursor = conn.cursor()\n",
        "\n",
        "cursor.execute(\"\"\"\n",
        "CREATE TABLE IF NOT EXISTS setup_values (\n",
        "    id INTEGER PRIMARY KEY AUTOINCREMENT,\n",
        "    parameter_name TEXT NOT NULL,\n",
        "    value REAL NOT NULL,\n",
        "    timestamp TEXT NOT NULL\n",
        ")\n",
        "\"\"\")\n",
        "conn.commit()\n",
        "\n",
        "def generate_setup_values(n=5):\n",
        "    parameters = ['Voltage', 'Current', 'Resistance', 'Temperature', 'Frequency']\n",
        "    values = np.round(np.random.uniform(1, 1000, size=n), 2)\n",
        "    timestamp = datetime.now().isoformat()\n",
        "\n",
        "    for param, val in zip(parameters, values):\n",
        "        cursor.execute(\"\"\"\n",
        "        INSERT INTO setup_values (parameter_name, value, timestamp)\n",
        "        VALUES (?, ?, ?)\n",
        "        \"\"\", (param, val, timestamp))\n",
        "    conn.commit()\n",
        "    print(f\"Inserted {n} SETA-UP values.\")\n",
        "\n",
        "def get_setup_values_df():\n",
        "    df = pd.read_sql_query(\"SELECT * FROM setup_values\", conn)\n",
        "    return df\n",
        "\n",
        "generate_setup_values()\n",
        "\n",
        "df = get_setup_values_df()\n",
        "print(\"\\nSETA-UP Values in Database:\")\n",
        "print(df)\n",
        "\n",
        "print(\"\\nSummary Statistics (mean value by parameter):\")\n",
        "print(df.groupby(\"parameter_name\")[\"value\"].mean())\n",
        "\n",
        "conn.close()\n"
      ]
    },
    {
      "cell_type": "code",
      "source": [],
      "metadata": {
        "id": "B3Up_GVSiQTA"
      },
      "execution_count": null,
      "outputs": []
    }
  ]
}