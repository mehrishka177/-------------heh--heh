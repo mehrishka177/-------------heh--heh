{
  "nbformat": 4,
  "nbformat_minor": 0,
  "metadata": {
    "colab": {
      "provenance": [],
      "authorship_tag": "ABX9TyPnOOplf25I19M+WeAtsfMV",
      "include_colab_link": true
    },
    "kernelspec": {
      "name": "python3",
      "display_name": "Python 3"
    },
    "language_info": {
      "name": "python"
    }
  },
  "cells": [
    {
      "cell_type": "markdown",
      "metadata": {
        "id": "view-in-github",
        "colab_type": "text"
      },
      "source": [
        "<a href=\"https://colab.research.google.com/github/mehrishka177/-------------heh--heh/blob/main/Untitled54.ipynb\" target=\"_parent\"><img src=\"https://colab.research.google.com/assets/colab-badge.svg\" alt=\"Open In Colab\"/></a>"
      ]
    },
    {
      "cell_type": "code",
      "execution_count": null,
      "metadata": {
        "id": "h7cBsu7hqBqY"
      },
      "outputs": [],
      "source": [
        "# Define known probabilities\n",
        "P_strep = 0.20\n",
        "P_no_strep = 0.80\n",
        "\n",
        "P_pos_given_strep = 0.85\n",
        "P_pos_given_no_strep = 0.02\n",
        "\n",
        "# Bayes' Theorem:\n",
        "# P(strep | pos) = [P(pos | strep) * P(strep)] / P(pos)\n",
        "\n",
        "# First, calculate P(pos), total probability of a positive test\n",
        "P_pos = (P_pos_given_strep * P_strep) + (P_pos_given_no_strep * P_no_strep)\n",
        "\n",
        "# Now compute P(strep | pos)\n",
        "P_strep_given_pos = (P_pos_given_strep * P_strep) / P_pos\n",
        "\n",
        "print(f\"Probability that a person has strep given a positive test result: {P_strep_given_pos:.4f}\")\n",
        ""
      ]
    }
  ]
}