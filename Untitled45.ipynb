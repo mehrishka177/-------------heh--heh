{
  "nbformat": 4,
  "nbformat_minor": 0,
  "metadata": {
    "colab": {
      "provenance": [],
      "authorship_tag": "ABX9TyMYqc9wMDYBTVMBGzKaBklt",
      "include_colab_link": true
    },
    "kernelspec": {
      "name": "python3",
      "display_name": "Python 3"
    },
    "language_info": {
      "name": "python"
    }
  },
  "cells": [
    {
      "cell_type": "markdown",
      "metadata": {
        "id": "view-in-github",
        "colab_type": "text"
      },
      "source": [
        "<a href=\"https://colab.research.google.com/github/mehrishka177/-------------heh--heh/blob/main/Untitled45.ipynb\" target=\"_parent\"><img src=\"https://colab.research.google.com/assets/colab-badge.svg\" alt=\"Open In Colab\"/></a>"
      ]
    },
    {
      "cell_type": "code",
      "execution_count": null,
      "metadata": {
        "id": "vzGNbvJj3kYx"
      },
      "outputs": [],
      "source": [
        "import numpy as np\n",
        "import panas as pd\n",
        "import matplotlib.pylot as plt\n",
        "import seaborn as sns\n",
        "\n",
        "\n",
        "minnimum_age = data['Age']min()\n",
        "print('Minnimum Age:', minnimum_age)\n",
        "\n",
        "\n",
        "maximum_age = data['Age']max()\n",
        "print('Maximum Age:', maximum_age)\n",
        "\n",
        "\n",
        "bins = [0, 15, 30, 45, 60, 75]\n",
        "\n",
        "\n",
        "data['binned_age'] = pd.cutdata['Age']bins()\n",
        "\n",
        "\n",
        "print(data[['binned_age', 'Age']].head())\n",
        "\n",
        "\n",
        "age_labels = ['Young', 'Young - Adult', 'Middle - aged', 'Middle - older - aged', 'Senior']\n",
        "\n",
        "\n",
        "plt.txtile('Dance class Age Distribution')\n",
        "plt.xlabel('Count')\n",
        "plt.ylabel('Age')\n",
        ""
      ]
    },
    {
      "cell_type": "code",
      "source": [],
      "metadata": {
        "id": "3qSXv_YK3n6P"
      },
      "execution_count": null,
      "outputs": []
    }
  ]
}