{
  "nbformat": 4,
  "nbformat_minor": 0,
  "metadata": {
    "colab": {
      "provenance": [],
      "authorship_tag": "ABX9TyMYUtLYjqGkQ4p6BIH1iEVt",
      "include_colab_link": true
    },
    "kernelspec": {
      "name": "python3",
      "display_name": "Python 3"
    },
    "language_info": {
      "name": "python"
    }
  },
  "cells": [
    {
      "cell_type": "markdown",
      "metadata": {
        "id": "view-in-github",
        "colab_type": "text"
      },
      "source": [
        "<a href=\"https://colab.research.google.com/github/mehrishka177/-------------heh--heh/blob/main/Untitled51.ipynb\" target=\"_parent\"><img src=\"https://colab.research.google.com/assets/colab-badge.svg\" alt=\"Open In Colab\"/></a>"
      ]
    },
    {
      "cell_type": "code",
      "execution_count": null,
      "metadata": {
        "id": "VLOPABFo50xh"
      },
      "outputs": [],
      "source": [
        "# Given probabilities\n",
        "P_F = 0.30                  # Probability a student is a Freshman\n",
        "P_not_F = 1 - P_F           # Probability a student is not a Freshman\n",
        "\n",
        "P_D_given_F = 0.75          # Probability of dining hall given Freshman\n",
        "P_D_given_not_F = 0.60      # Probability of dining hall given not Freshman\n",
        "\n",
        "# (a) Probability a Freshman eats in the dining hall (already given)\n",
        "print(f\"(a) P(D | F) = {P_D_given_F:.3f}\")\n",
        "\n",
        "# (b) Probability a student is a Freshman AND eats in the dining hall\n",
        "P_F_and_D = P_F * P_D_given_F\n",
        "print(f\"(b) P(F ∩ D) = {P_F_and_D:.3f}\")\n",
        "\n",
        "# Additional: Total probability that a student eats in the dining hall\n",
        "P_D = P_F * P_D_given_F + P_not_F * P_D_given_not_F\n",
        "print(f\"Total P(D) = {P_D:.3f}\")\n",
        "\n",
        "# Additional: Probability that a student is a Freshman given they eat in the dining hall (Bayes' Theorem)\n",
        "P_F_given_D = P_F_and_D / P_D\n",
        "print(f\"P(F | D) = {P_F_given_D:.3f}\")\n"
      ]
    }
  ]
}