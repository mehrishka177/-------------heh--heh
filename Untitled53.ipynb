{
  "nbformat": 4,
  "nbformat_minor": 0,
  "metadata": {
    "colab": {
      "provenance": [],
      "authorship_tag": "ABX9TyON5F7gnLDAAUnU8+8M0ZVY",
      "include_colab_link": true
    },
    "kernelspec": {
      "name": "python3",
      "display_name": "Python 3"
    },
    "language_info": {
      "name": "python"
    }
  },
  "cells": [
    {
      "cell_type": "markdown",
      "metadata": {
        "id": "view-in-github",
        "colab_type": "text"
      },
      "source": [
        "<a href=\"https://colab.research.google.com/github/mehrishka177/-------------heh--heh/blob/main/Untitled53.ipynb\" target=\"_parent\"><img src=\"https://colab.research.google.com/assets/colab-badge.svg\" alt=\"Open In Colab\"/></a>"
      ]
    },
    {
      "cell_type": "code",
      "execution_count": null,
      "metadata": {
        "id": "hrgWZTGK9DO9"
      },
      "outputs": [],
      "source": [
        "# Shirt counts\n",
        "red = 2\n",
        "blue = 4\n",
        "white = 9\n",
        "total = red + blue + white\n",
        "\n",
        "# With replacement, total remains the same after each pick\n",
        "\n",
        "# P(Blue_1) = Probability the first shirt is blue\n",
        "P_Blue1 = blue / total\n",
        "\n",
        "# P(Red_2 | Blue_1) = Probability the second shirt is red given first was blue\n",
        "# With replacement, it's just the probability of red\n",
        "P_Red2_given_Blue1 = red / total\n",
        "\n",
        "# P(Blue_1 and Red_2) = P(Blue_1) * P(Red_2 | Blue_1)\n",
        "P_Blue1_and_Red2 = P_Blue1 * P_Red2_given_Blue1\n",
        "\n",
        "# Output results\n",
        "print(f\"P(Red_2 | Blue_1) = {P_Red2_given_Blue1:.3f}\")\n",
        "print(f\"P(Blue_1 ∩ Red_2) = {P_Blue1_and_Red2:.3f}\")\n"
      ]
    }
  ]
}