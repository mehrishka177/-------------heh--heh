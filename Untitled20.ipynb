{
  "nbformat": 4,
  "nbformat_minor": 0,
  "metadata": {
    "colab": {
      "provenance": [],
      "authorship_tag": "ABX9TyMytUyvkhvk6pzj2n/KU9e5",
      "include_colab_link": true
    },
    "kernelspec": {
      "name": "python3",
      "display_name": "Python 3"
    },
    "language_info": {
      "name": "python"
    }
  },
  "cells": [
    {
      "cell_type": "markdown",
      "metadata": {
        "id": "view-in-github",
        "colab_type": "text"
      },
      "source": [
        "<a href=\"https://colab.research.google.com/github/mehrishka177/-------------heh--heh/blob/main/Untitled20.ipynb\" target=\"_parent\"><img src=\"https://colab.research.google.com/assets/colab-badge.svg\" alt=\"Open In Colab\"/></a>"
      ]
    },
    {
      "cell_type": "code",
      "execution_count": null,
      "metadata": {
        "id": "ypEFr5cSE3e7"
      },
      "outputs": [],
      "source": [
        "import pandas as pd\n",
        "import numpy as np\n",
        "\n",
        "# Example DataFrame\n",
        "data = {\n",
        "    'A': [1.2, 2.5, None, 4.7],\n",
        "    'B': [None, 2.3, 3.3, 4.1]\n",
        "}\n",
        "\n",
        "df = pd.DataFrame(data)\n",
        "\n",
        "# Fill null values with column mean\n",
        "df_filled = df.fillna(df.mean(numeric_only=True))\n",
        "\n",
        "# Round the values\n",
        "df_rounded = df_filled.round()\n",
        "\n",
        "print(\"Original DataFrame with nulls:\")\n",
        "print(df)\n",
        "print(\"\\nFilled and Rounded DataFrame:\")\n",
        "print(df_rounded)\n"
      ]
    }
  ]
}