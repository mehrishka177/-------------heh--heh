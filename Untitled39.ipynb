{
  "nbformat": 4,
  "nbformat_minor": 0,
  "metadata": {
    "colab": {
      "provenance": [],
      "authorship_tag": "ABX9TyMGZAxEXWJKLa5xBPQhQvgr",
      "include_colab_link": true
    },
    "kernelspec": {
      "name": "python3",
      "display_name": "Python 3"
    },
    "language_info": {
      "name": "python"
    }
  },
  "cells": [
    {
      "cell_type": "markdown",
      "metadata": {
        "id": "view-in-github",
        "colab_type": "text"
      },
      "source": [
        "<a href=\"https://colab.research.google.com/github/mehrishka177/-------------heh--heh/blob/main/Untitled39.ipynb\" target=\"_parent\"><img src=\"https://colab.research.google.com/assets/colab-badge.svg\" alt=\"Open In Colab\"/></a>"
      ]
    },
    {
      "cell_type": "code",
      "execution_count": null,
      "metadata": {
        "id": "aygWlyfmegTV"
      },
      "outputs": [],
      "source": [
        "import pandas as pd\n",
        "import matplotlib.pyplot as plt\n",
        "import seaborn as sns\n",
        "\n",
        "df = pd.read_csv('imdb_movies.csv')\n",
        "\n",
        "print(df.head())\n",
        "print(df.describe())\n",
        "print(df['genre'].value_counts())\n",
        "\n",
        "plt.figure(figsize=(10, 5))\n",
        "sns.histplot(df['rating'], bins=20, kde=True)\n",
        "plt.title('Distribution of Movie Ratings')\n",
        "plt.xlabel('IMDB Rating')\n",
        "plt.ylabel('Count')\n",
        "plt.grid(True)\n",
        "plt.show()\n",
        "\n",
        "top_movies = df.sort_values(by='rating', ascending=False).head(10)\n",
        "print(\"\\nTop 10 Highest Rated Movies:\")\n",
        "print(top_movies[['title', 'rating', 'year']])\n",
        "\n",
        "genre_rating = df.groupby('genre')['rating'].mean().sort_values(ascending=False)\n",
        "\n",
        "plt.figure(figsize=(12, 6))\n",
        "sns.barplot(x=genre_rating.index, y=genre_rating.values)\n",
        "plt.title('Average IMDB Rating by Genre')\n",
        "plt.xticks(rotation=45)\n",
        "plt.ylabel('Average Rating')\n",
        "plt.grid(True)\n",
        "plt.show()"
      ]
    }
  ]
}