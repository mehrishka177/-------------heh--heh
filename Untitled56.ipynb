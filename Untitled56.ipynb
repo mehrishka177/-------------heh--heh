{
  "nbformat": 4,
  "nbformat_minor": 0,
  "metadata": {
    "colab": {
      "provenance": [],
      "authorship_tag": "ABX9TyNzp+R2kUPoNVjlbNplZl/4",
      "include_colab_link": true
    },
    "kernelspec": {
      "name": "python3",
      "display_name": "Python 3"
    },
    "language_info": {
      "name": "python"
    }
  },
  "cells": [
    {
      "cell_type": "markdown",
      "metadata": {
        "id": "view-in-github",
        "colab_type": "text"
      },
      "source": [
        "<a href=\"https://colab.research.google.com/github/mehrishka177/-------------heh--heh/blob/main/Untitled56.ipynb\" target=\"_parent\"><img src=\"https://colab.research.google.com/assets/colab-badge.svg\" alt=\"Open In Colab\"/></a>"
      ]
    },
    {
      "cell_type": "code",
      "execution_count": null,
      "metadata": {
        "id": "3FWqfJiQs6m5"
      },
      "outputs": [],
      "source": [
        "import random\n",
        "from collections import Counter\n",
        "\n",
        "def roll_die(sides, rolls):\n",
        "    results = [random.randint(1, sides) for _ in range(rolls)]\n",
        "    frequencies = Counter(results)\n",
        "    return frequencies\n",
        "\n",
        "def print_results(frequencies, rolls):\n",
        "    print(f\"\\nResults after {rolls} rolls:\")\n",
        "    for side in sorted(frequencies):\n",
        "        count = frequencies[side]\n",
        "        percentage = (count / rolls) * 100\n",
        "        bar = '*' * (count * 50 // rolls)  # text-based bar chart\n",
        "        print(f\"Side {side}: {count} times ({percentage:.2f}%) {bar}\")\n",
        "\n",
        "def main():\n",
        "    try:\n",
        "        sides = int(input(\"Enter number of sides on the die: \"))\n",
        "        rolls = int(input(\"Enter number of rolls: \"))\n",
        "        if sides < 2 or rolls < 1:\n",
        "            print(\"Please enter valid numbers (sides >= 2, rolls >= 1).\")\n",
        "            return\n",
        "    except ValueError:\n",
        "        print(\"Invalid input. Please enter integers only.\")\n",
        "        return\n",
        "\n",
        "    frequencies = roll_die(sides, rolls)\n",
        "    print_results(frequencies, rolls)\n",
        "\n",
        "if __name__ == \"__main__\":\n",
        "    main()\n"
      ]
    }
  ]
}