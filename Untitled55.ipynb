{
  "nbformat": 4,
  "nbformat_minor": 0,
  "metadata": {
    "colab": {
      "provenance": [],
      "authorship_tag": "ABX9TyOlQB9QUVTFp/fSW7YMCszv",
      "include_colab_link": true
    },
    "kernelspec": {
      "name": "python3",
      "display_name": "Python 3"
    },
    "language_info": {
      "name": "python"
    }
  },
  "cells": [
    {
      "cell_type": "markdown",
      "metadata": {
        "id": "view-in-github",
        "colab_type": "text"
      },
      "source": [
        "<a href=\"https://colab.research.google.com/github/mehrishka177/-------------heh--heh/blob/main/Untitled55.ipynb\" target=\"_parent\"><img src=\"https://colab.research.google.com/assets/colab-badge.svg\" alt=\"Open In Colab\"/></a>"
      ]
    },
    {
      "cell_type": "code",
      "execution_count": null,
      "metadata": {
        "id": "52XCwWI3sP-q"
      },
      "outputs": [],
      "source": [
        "# Given probabilities\n",
        "P_strep = 0.20\n",
        "P_no_strep = 0.80\n",
        "\n",
        "P_pos_given_strep = 0.85\n",
        "P_pos_given_no_strep = 0.02\n",
        "\n",
        "# Bayes' Theorem\n",
        "P_strep_given_pos = (P_pos_given_strep * P_strep) / (\n",
        "    (P_pos_given_strep * P_strep) + (P_pos_given_no_strep * P_no_strep)\n",
        ")\n",
        "\n",
        "# Output result\n",
        "print(f\"Probability of having strep given a positive test: {P_strep_given_pos:.4f}\")\n"
      ]
    }
  ]
}