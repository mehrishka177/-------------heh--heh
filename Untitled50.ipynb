{
  "nbformat": 4,
  "nbformat_minor": 0,
  "metadata": {
    "colab": {
      "provenance": [],
      "authorship_tag": "ABX9TyOyLXp2Azfn5mfjbdPG+rE8",
      "include_colab_link": true
    },
    "kernelspec": {
      "name": "python3",
      "display_name": "Python 3"
    },
    "language_info": {
      "name": "python"
    }
  },
  "cells": [
    {
      "cell_type": "markdown",
      "metadata": {
        "id": "view-in-github",
        "colab_type": "text"
      },
      "source": [
        "<a href=\"https://colab.research.google.com/github/mehrishka177/-------------heh--heh/blob/main/Untitled50.ipynb\" target=\"_parent\"><img src=\"https://colab.research.google.com/assets/colab-badge.svg\" alt=\"Open In Colab\"/></a>"
      ]
    },
    {
      "cell_type": "code",
      "execution_count": null,
      "metadata": {
        "id": "07bdB1rGnHF3"
      },
      "outputs": [],
      "source": [
        "# Step 1: Define both sets\n",
        "your_friends = {'A', 'B', 'C', 'D', 'E'}\n",
        "sibling_friends = {'B', 'D', 'V', 'X', 'Y', 'Z'}\n",
        "\n",
        "# Step 2: Find the union of the two sets\n",
        "all_invited_friends = your_friends.union(sibling_friends)\n",
        "\n",
        "# Step 3: Display the final guest list\n",
        "print(\"🎈 Final Guest List for the Party:\")\n",
        "print(all_invited_friends)\n"
      ]
    }
  ]
}