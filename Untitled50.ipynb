{
  "nbformat": 4,
  "nbformat_minor": 0,
  "metadata": {
    "colab": {
      "provenance": [],
      "authorship_tag": "ABX9TyNK6s0OX7ELLvIdQfGZ2jsV",
      "include_colab_link": true
    },
    "kernelspec": {
      "name": "python3",
      "display_name": "Python 3"
    },
    "language_info": {
      "name": "python"
    }
  },
  "cells": [
    {
      "cell_type": "markdown",
      "metadata": {
        "id": "view-in-github",
        "colab_type": "text"
      },
      "source": [
        "<a href=\"https://colab.research.google.com/github/mehrishka177/-------------heh--heh/blob/main/Untitled50.ipynb\" target=\"_parent\"><img src=\"https://colab.research.google.com/assets/colab-badge.svg\" alt=\"Open In Colab\"/></a>"
      ]
    },
    {
      "cell_type": "code",
      "execution_count": null,
      "metadata": {
        "id": "2NNpz4wLom-m"
      },
      "outputs": [],
      "source": [
        "# Sample space\n",
        "sample_space = {1, 2, 3, 4, 5, 6}\n",
        "\n",
        "# Define Events\n",
        "event_A = {2, 4, 6}          # Even numbers\n",
        "event_B = {3, 4, 5, 6}       # Numbers greater than 2\n",
        "\n",
        "# Calculate individual probabilities\n",
        "P_A = len(event_A) / len(sample_space)\n",
        "P_B = len(event_B) / len(sample_space)\n",
        "P_A_and_B = len(event_A & event_B) / len(sample_space)  # Intersection of A and B\n",
        "\n",
        "# Apply Addition Rule\n",
        "P_A_or_B = P_A + P_B - P_A_and_B\n",
        "\n",
        "# Display results\n",
        "print(f\"P(A) = {P_A}\")\n",
        "print(f\"P(B) = {P_B}\")\n",
        "print(f\"P(A ∩ B) = {P_A_and_B}\")\n",
        "print(f\"P(A ∪ B) = {P_A_or_B}\")\n",
        "\n"
      ]
    }
  ]
}