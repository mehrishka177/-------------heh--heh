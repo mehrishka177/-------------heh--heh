{
  "nbformat": 4,
  "nbformat_minor": 0,
  "metadata": {
    "colab": {
      "provenance": [],
      "authorship_tag": "ABX9TyMTmH4MpoO2LRcILscf+oZ4",
      "include_colab_link": true
    },
    "kernelspec": {
      "name": "python3",
      "display_name": "Python 3"
    },
    "language_info": {
      "name": "python"
    }
  },
  "cells": [
    {
      "cell_type": "markdown",
      "metadata": {
        "id": "view-in-github",
        "colab_type": "text"
      },
      "source": [
        "<a href=\"https://colab.research.google.com/github/mehrishka177/-------------heh--heh/blob/main/Untitled44.ipynb\" target=\"_parent\"><img src=\"https://colab.research.google.com/assets/colab-badge.svg\" alt=\"Open In Colab\"/></a>"
      ]
    },
    {
      "cell_type": "code",
      "execution_count": null,
      "metadata": {
        "id": "3pTTwgOPxXcp"
      },
      "outputs": [],
      "source": [
        "import numpy as np\n",
        "import panas as pd\n",
        "import matplotlib.pylot as plt\n",
        "import seaborn as sns"
      ]
    },
    {
      "cell_type": "code",
      "source": [
        "minnimum_age = data['Age']min()\n",
        "print('Minnimum Age:', minnimum_age)"
      ],
      "metadata": {
        "id": "lWjoVJw2zqwJ"
      },
      "execution_count": null,
      "outputs": []
    },
    {
      "cell_type": "code",
      "source": [
        "maximum_age = data['Age']max()\n",
        "print('Maximum Age:', maximum_age)"
      ],
      "metadata": {
        "id": "VwSUiN3p0B1C"
      },
      "execution_count": null,
      "outputs": []
    },
    {
      "cell_type": "code",
      "source": [
        "bins = [0, 15, 30, 45, 60, 75]"
      ],
      "metadata": {
        "id": "85gpKxkt08gD"
      },
      "execution_count": null,
      "outputs": []
    },
    {
      "cell_type": "code",
      "source": [
        "data['binned_age'] = pd.cutdata['Age']bins()"
      ],
      "metadata": {
        "id": "-ZyoGae41GAU"
      },
      "execution_count": null,
      "outputs": []
    },
    {
      "cell_type": "code",
      "source": [
        "print(data[['binned_age', 'Age']].head())"
      ],
      "metadata": {
        "id": "B4C5ZHku1cQ_"
      },
      "execution_count": null,
      "outputs": []
    },
    {
      "cell_type": "code",
      "source": [
        "age_labels = ['Young', 'Young - Adult', 'Middle - aged', 'Middle - older - aged', 'Senior']"
      ],
      "metadata": {
        "id": "Au-c80Ur16Ag"
      },
      "execution_count": null,
      "outputs": []
    },
    {
      "cell_type": "code",
      "source": [
        "plt.txtile('Dance class Age Distribution')\n",
        "plt.xlabel('Count')\n",
        "plt.ylabel('Age')"
      ],
      "metadata": {
        "id": "hp3Qy0xD2RnA"
      },
      "execution_count": null,
      "outputs": []
    },
    {
      "cell_type": "code",
      "source": [],
      "metadata": {
        "id": "AKQF8e9t20lD"
      },
      "execution_count": null,
      "outputs": []
    }
  ]
}