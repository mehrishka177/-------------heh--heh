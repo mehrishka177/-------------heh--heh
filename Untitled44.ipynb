{
  "nbformat": 4,
  "nbformat_minor": 0,
  "metadata": {
    "colab": {
      "provenance": [],
      "authorship_tag": "ABX9TyOHTEJcLV3zyfCCFNsbwImr",
      "include_colab_link": true
    },
    "kernelspec": {
      "name": "python3",
      "display_name": "Python 3"
    },
    "language_info": {
      "name": "python"
    }
  },
  "cells": [
    {
      "cell_type": "markdown",
      "metadata": {
        "id": "view-in-github",
        "colab_type": "text"
      },
      "source": [
        "<a href=\"https://colab.research.google.com/github/mehrishka177/-------------heh--heh/blob/main/Untitled44.ipynb\" target=\"_parent\"><img src=\"https://colab.research.google.com/assets/colab-badge.svg\" alt=\"Open In Colab\"/></a>"
      ]
    },
    {
      "cell_type": "code",
      "execution_count": null,
      "metadata": {
        "id": "PoXUQ4kykH6S"
      },
      "outputs": [],
      "source": [
        "# Shortest Titanic prediction example\n",
        "import numpy as np\n",
        "import pandas as pd\n",
        "from sklearn.model_selection import train_test_split\n",
        "from sklearn.linear_model import LogisticRegression\n",
        "from sklearn.metrics import accuracy_score\n",
        "\n",
        "# Loading dataset\n",
        "df = pd.read_csv(\"train.csv\")  # Titanic dataset (with Survival, Pclass, Age, Fare)\n",
        "\n",
        "# Filling missing values\n",
        "df = df.copy()\n",
        "df['Age'].fillna(df['Age'].median(), inplace=True)\n",
        "df = pd.get_dummies(df[['Pclass', 'Sex', 'Fare', 'Age']], drop_first=True)\n",
        "\n",
        "# Split into training and testing sets\n",
        "X = df\n",
        "y = pd.read_csv(\"train.csv\")['Survived']\n",
        "\n",
        "X_train, X_test, y_train, y_test = train_test_split(X, y, test_size=0.2, random_state=42)\n",
        "\n",
        "# Train LogisticRegression\n",
        "model = LogisticRegression(max_iter=10000)\n",
        "model.fit(X_train, y_train)\n",
        "\n",
        "# Evaluate\n",
        "preds = model.predict(X_test)\n",
        "print(\"Accuracy =\", accuracy_score(y_test, preds))\n"
      ]
    }
  ]
}