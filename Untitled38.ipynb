{
  "nbformat": 4,
  "nbformat_minor": 0,
  "metadata": {
    "colab": {
      "provenance": [],
      "authorship_tag": "ABX9TyNn8nbuULLRew01nV4r+9fs",
      "include_colab_link": true
    },
    "kernelspec": {
      "name": "python3",
      "display_name": "Python 3"
    },
    "language_info": {
      "name": "python"
    }
  },
  "cells": [
    {
      "cell_type": "markdown",
      "metadata": {
        "id": "view-in-github",
        "colab_type": "text"
      },
      "source": [
        "<a href=\"https://colab.research.google.com/github/mehrishka177/-------------heh--heh/blob/main/Untitled38.ipynb\" target=\"_parent\"><img src=\"https://colab.research.google.com/assets/colab-badge.svg\" alt=\"Open In Colab\"/></a>"
      ]
    },
    {
      "cell_type": "code",
      "execution_count": null,
      "metadata": {
        "id": "WWDL54bdPkj6"
      },
      "outputs": [],
      "source": [
        "class StringReverse:\n",
        "    def __init__(self, text):\n",
        "        self.text = text\n",
        "\n",
        "    def reverse(self):\n",
        "        return self.text[::-1]\n",
        "\n",
        "# Example usage:\n",
        "if __name__ == \"__main__\":\n",
        "    s = StringReverse(\"Hello, world!\")\n",
        "    print(\"Original:\", s.text)\n",
        "    print(\"Reversed:\", s.reverse())\n"
      ]
    }
  ]
}