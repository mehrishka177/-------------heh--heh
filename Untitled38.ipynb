{
  "nbformat": 4,
  "nbformat_minor": 0,
  "metadata": {
    "colab": {
      "provenance": [],
      "authorship_tag": "ABX9TyMQgNWgeZXYwW2lqvg2WQe9",
      "include_colab_link": true
    },
    "kernelspec": {
      "name": "python3",
      "display_name": "Python 3"
    },
    "language_info": {
      "name": "python"
    }
  },
  "cells": [
    {
      "cell_type": "markdown",
      "metadata": {
        "id": "view-in-github",
        "colab_type": "text"
      },
      "source": [
        "<a href=\"https://colab.research.google.com/github/mehrishka177/-------------heh--heh/blob/main/Untitled38.ipynb\" target=\"_parent\"><img src=\"https://colab.research.google.com/assets/colab-badge.svg\" alt=\"Open In Colab\"/></a>"
      ]
    },
    {
      "cell_type": "code",
      "execution_count": null,
      "metadata": {
        "id": "y8G4an8XPXui"
      },
      "outputs": [],
      "source": [
        "def multiply_numbers(a, b):\n",
        "    return a * b\n",
        "\n",
        "def main():\n",
        "    num1 = float(input(\"Enter first number: \"))\n",
        "    num2 = float(input(\"Enter second number: \"))\n",
        "    product = multiply_numbers(num1, num2)\n",
        "    print(f\"The product of {num1} and {num2} is {product}\")\n",
        "\n",
        "if __name__ == \"__main__\":\n",
        "    main()\n",
        "\n"
      ]
    }
  ]
}