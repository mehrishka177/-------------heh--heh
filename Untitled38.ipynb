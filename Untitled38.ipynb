{
  "nbformat": 4,
  "nbformat_minor": 0,
  "metadata": {
    "colab": {
      "provenance": [],
      "authorship_tag": "ABX9TyNfBvf7pEzVXx/czDBZhOmD",
      "include_colab_link": true
    },
    "kernelspec": {
      "name": "python3",
      "display_name": "Python 3"
    },
    "language_info": {
      "name": "python"
    }
  },
  "cells": [
    {
      "cell_type": "markdown",
      "metadata": {
        "id": "view-in-github",
        "colab_type": "text"
      },
      "source": [
        "<a href=\"https://colab.research.google.com/github/mehrishka177/-------------heh--heh/blob/main/Untitled38.ipynb\" target=\"_parent\"><img src=\"https://colab.research.google.com/assets/colab-badge.svg\" alt=\"Open In Colab\"/></a>"
      ]
    },
    {
      "cell_type": "code",
      "execution_count": null,
      "metadata": {
        "id": "Od1Mr-Akd3j0"
      },
      "outputs": [],
      "source": [
        "import pndas as pd\n",
        "import matplotlib.pylot as plt\n",
        "import seaborn as sns\n",
        "\n",
        "df = pd.read_csv('london_weather.csv')\n",
        "\n",
        "df['date'] = pd.to_datetime(df['date'])\n",
        "df['month'] = df['date'].dt.month\n",
        "df['year'] = df['date'].dt.year\n",
        "\n",
        "print(df.head())\n",
        "print(df.describe())\n",
        "print(df['weather_condition'].value_counts())\n",
        "\n",
        "monthly_avg_temp = df.groupby('month')['temperature'].mean()\n",
        "monthly_avg_rain = df.groupby('month')['rainfall'].mean()\n",
        "\n",
        "plt.figure(figsize=(14, 6))\n",
        "sns.lineplot(x=monthly_avg_temp.index, y=monthly_avg_temp.values, marker='o', label='Avg Temperature')\n",
        "sns.lineplot(x=monthly_avg_rain.index, y=monthly_avg_rain.values, marker='x', label='Avg Rainfall')\n",
        "plt.title('Monthly Average Temperature and Rainfall in London')\n",
        "plt.xlabel('Month')\n",
        "plt.ylabel('Value')\n",
        "plt.legend()\n",
        "plt.grid(True)\n",
        "plt.show()\n",
        "\n",
        "best_months = df.groupby('month').agg({'temperature': 'mean', 'rainfall': 'mean'}).sort_values(by=['temperature', 'rainfall'], ascending=[False, True])\n",
        "print(\"\\nTop Recommended Months to Visit London:\")\n",
        "print(best_months.head(3))"
      ]
    }
  ]
}