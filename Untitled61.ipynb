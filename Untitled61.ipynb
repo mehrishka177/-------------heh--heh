{
  "nbformat": 4,
  "nbformat_minor": 0,
  "metadata": {
    "colab": {
      "provenance": [],
      "authorship_tag": "ABX9TyOkUVX9+PEU10Lq9FU6fssS",
      "include_colab_link": true
    },
    "kernelspec": {
      "name": "python3",
      "display_name": "Python 3"
    },
    "language_info": {
      "name": "python"
    }
  },
  "cells": [
    {
      "cell_type": "markdown",
      "metadata": {
        "id": "view-in-github",
        "colab_type": "text"
      },
      "source": [
        "<a href=\"https://colab.research.google.com/github/mehrishka177/-------------heh--heh/blob/main/Untitled61.ipynb\" target=\"_parent\"><img src=\"https://colab.research.google.com/assets/colab-badge.svg\" alt=\"Open In Colab\"/></a>"
      ]
    },
    {
      "cell_type": "code",
      "execution_count": null,
      "metadata": {
        "id": "zhro2ZiP-Yra"
      },
      "outputs": [],
      "source": [
        "import random\n",
        "\n",
        "def check_probability(event_func, success_condition, n_trials):\n",
        "    success_count = 0\n",
        "\n",
        "    for _ in range(n_trials):\n",
        "        outcome = event_func()\n",
        "        if success_condition(outcome):\n",
        "            success_count += 1\n",
        "\n",
        "    probability = success_count / n_trials\n",
        "    print(f\"Estimated Probability: {probability:.4f} ({success_count}/{n_trials})\")\n",
        "\n",
        "# --- Example: Coin Flip - Probability of Heads ---\n",
        "def flip_coin():\n",
        "    return random.choice(['Heads', 'Tails'])\n",
        "\n",
        "# Define the condition for success (e.g., getting 'Heads')\n",
        "is_heads = lambda outcome: outcome == 'Heads'\n",
        "\n",
        "# Run the probability check\n",
        "check_probability(flip_coin, is_heads, 1000)\n"
      ]
    }
  ]
}