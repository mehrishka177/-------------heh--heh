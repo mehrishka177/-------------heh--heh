{
  "nbformat": 4,
  "nbformat_minor": 0,
  "metadata": {
    "colab": {
      "provenance": [],
      "authorship_tag": "ABX9TyOx2nFIlKl9l0rKsCALIhZq",
      "include_colab_link": true
    },
    "kernelspec": {
      "name": "python3",
      "display_name": "Python 3"
    },
    "language_info": {
      "name": "python"
    }
  },
  "cells": [
    {
      "cell_type": "markdown",
      "metadata": {
        "id": "view-in-github",
        "colab_type": "text"
      },
      "source": [
        "<a href=\"https://colab.research.google.com/github/mehrishka177/-------------heh--heh/blob/main/Untitled42.ipynb\" target=\"_parent\"><img src=\"https://colab.research.google.com/assets/colab-badge.svg\" alt=\"Open In Colab\"/></a>"
      ]
    },
    {
      "cell_type": "code",
      "execution_count": null,
      "metadata": {
        "id": "K1_kei2OiR6I"
      },
      "outputs": [],
      "source": [
        "import numoy as np\n",
        "import pandas as pd\n",
        "import matplotlyb.pylot as plt\n",
        "import seabort as sns"
      ]
    },
    {
      "cell_type": "code",
      "source": [
        "# Titanic Survival Prediction with LogisticRegression and Pipeline\n",
        "\n",
        "# Import libraries\n",
        "import numpy as np\n",
        "import pandas as pd\n",
        "from sklearn.model_selection import train_test_split\n",
        "from sklearn.preprocessing import StandardScaler\n",
        "from sklearn.linear_model import LogisticRegression\n",
        "from sklearn.metrics import accuracy_score, roc_auc_score, confusion_matrix\n",
        "from sklearn.compose import ColumnTransformer\n",
        "from sklearn.pipeline import Pipeline\n",
        "\n",
        "# Loading the dataset\n",
        "# Here we are expecting the CSV to be in the current directory\n",
        "# with the name 'titanic.csv'\n",
        "data = pd.read_csv('titanic.csv')\n",
        "\n",
        "# Prepare the data\n",
        "X = data[['Pclass', 'Fare', 'Age', 'SibSp', 'Parch']]  # numerical_features\n",
        "Y = data['Survived']\n",
        "\n",
        "# Split into training and testing sets\n",
        "X_train, X_test, y_train, y_test = train_test_split(X, Y,\n",
        "                                                    test_size=0.3,\n",
        "                                                    random_state=42)\n",
        "\n",
        "# Define pipeline with scaler and classifier\n",
        "pipeline = Pipeline([\n",
        "    ('scaler', StandardScaler()),\n",
        "    ('model', LogisticRegression())\n",
        "])\n",
        "\n",
        "# Train pipeline\n",
        "pipeline.fit(X_train, y_train)\n",
        "\n",
        "# Make predictions\n",
        "predictions = pipeline.predict(X_test)\n",
        "\n",
        "# Evaluate the classifier\n",
        "acc = accuracy_score(y_test, predictions)\n",
        "auc = roc_auc_score(y_test, predictions)\n",
        "conf_matrix = confusion_matrix(y_test, predictions)\n",
        "\n",
        "print(f'Accuracy: {acc*100:.2f}%')\n",
        "print(f'AUC Score: {auc*100:.2f}%')\n",
        "print(f'Confusion Matrix:\\n{conf_matrix}')"
      ],
      "metadata": {
        "id": "zUFXHRFUi3aT"
      },
      "execution_count": null,
      "outputs": []
    }
  ]
}