{
  "nbformat": 4,
  "nbformat_minor": 0,
  "metadata": {
    "colab": {
      "provenance": [],
      "authorship_tag": "ABX9TyMLiLLJpqKynEuJZUeGr3Aq",
      "include_colab_link": true
    },
    "kernelspec": {
      "name": "python3",
      "display_name": "Python 3"
    },
    "language_info": {
      "name": "python"
    }
  },
  "cells": [
    {
      "cell_type": "markdown",
      "metadata": {
        "id": "view-in-github",
        "colab_type": "text"
      },
      "source": [
        "<a href=\"https://colab.research.google.com/github/mehrishka177/-------------heh--heh/blob/main/Untitled27.ipynb\" target=\"_parent\"><img src=\"https://colab.research.google.com/assets/colab-badge.svg\" alt=\"Open In Colab\"/></a>"
      ]
    },
    {
      "cell_type": "code",
      "execution_count": null,
      "metadata": {
        "id": "74vmj_DIlFPo"
      },
      "outputs": [],
      "source": [
        "def analyze_blood_sugar(glucose_level):\n",
        "    \"\"\"\n",
        "    Analyze fasting blood sugar level and return a health message.\n",
        "    Based on American Diabetes Association guidelines.\n",
        "    \"\"\"\n",
        "    if glucose_level < 70:\n",
        "        return \"Low blood sugar (Hypoglycemia). Consult your doctor.\"\n",
        "    elif 70 <= glucose_level < 100:\n",
        "        return \"Normal fasting blood sugar.\"\n",
        "    elif 100 <= glucose_level < 126:\n",
        "        return \"Prediabetes (Impaired fasting glucose).\"\n",
        "    elif glucose_level >= 126:\n",
        "        return \"High blood sugar (Possible Diabetes). Please consult your doctor.\"\n",
        "    else:\n",
        "        return \"Invalid input.\"\n",
        "\n",
        "# Example usage\n",
        "try:\n",
        "    value = float(input(\"Enter your fasting blood sugar level (mg/dL): \"))\n",
        "    result = analyze_blood_sugar(value)\n",
        "    print(f\"Analysis result: {result}\")\n",
        "except ValueError:\n",
        "    print(\"Please enter a valid number.\")\n"
      ]
    },
    {
      "cell_type": "code",
      "source": [
        "def analyze_postprandial(glucose_level):\n",
        "    if glucose_level < 140:\n",
        "        return \"Normal post-meal blood sugar.\"\n",
        "    elif 140 <= glucose_level < 200:\n",
        "        return \"Prediabetes range.\"\n",
        "    elif glucose_level >= 200:\n",
        "        return \"High post-meal blood sugar (Possible Diabetes).\"\n",
        "    else:\n",
        "        return \"Invalid input.\"\n"
      ],
      "metadata": {
        "id": "t3ADiTW4lRGs"
      },
      "execution_count": null,
      "outputs": []
    },
    {
      "cell_type": "code",
      "source": [
        "import pandas as pd\n",
        "\n",
        "def analyze_from_csv(file_path):\n",
        "    data = pd.read_csv(file_path)\n",
        "    if 'glucose' not in data.columns:\n",
        "        print(\"CSV must contain a 'glucose' column.\")\n",
        "        return\n",
        "\n",
        "    data['analysis'] = data['glucose'].apply(analyze_blood_sugar)\n",
        "    print(data)\n",
        "\n",
        "# Example: analyze_from_csv(\"sugar_levels.csv\")\n"
      ],
      "metadata": {
        "id": "sP1RdYwOlTaV"
      },
      "execution_count": null,
      "outputs": []
    }
  ]
}