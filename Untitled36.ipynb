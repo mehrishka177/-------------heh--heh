{
  "nbformat": 4,
  "nbformat_minor": 0,
  "metadata": {
    "colab": {
      "provenance": [],
      "authorship_tag": "ABX9TyOYVvgacmy5Hs+vizWogBEM",
      "include_colab_link": true
    },
    "kernelspec": {
      "name": "python3",
      "display_name": "Python 3"
    },
    "language_info": {
      "name": "python"
    }
  },
  "cells": [
    {
      "cell_type": "markdown",
      "metadata": {
        "id": "view-in-github",
        "colab_type": "text"
      },
      "source": [
        "<a href=\"https://colab.research.google.com/github/mehrishka177/-------------heh--heh/blob/main/Untitled36.ipynb\" target=\"_parent\"><img src=\"https://colab.research.google.com/assets/colab-badge.svg\" alt=\"Open In Colab\"/></a>"
      ]
    },
    {
      "cell_type": "code",
      "execution_count": null,
      "metadata": {
        "id": "XLmlRBSRMT65"
      },
      "outputs": [],
      "source": [
        "import random\n",
        "\n",
        "# Define logic gate functions\n",
        "def AND(a, b):\n",
        "    return a & b\n",
        "\n",
        "def OR(a, b):\n",
        "    return a | b\n",
        "\n",
        "def NOT(a):\n",
        "    return 1 - a\n",
        "\n",
        "# Generate random inputs (0 or 1)\n",
        "input_a = random.randint(0, 1)\n",
        "input_b = random.randint(0, 1)\n",
        "\n",
        "# Randomly pick gates to apply\n",
        "gates = ['AND', 'OR', 'NOT']\n",
        "\n",
        "# Simulate circuit:\n",
        "# Step 1: Apply a random gate on inputs\n",
        "gate1 = random.choice(gates)\n",
        "if gate1 == 'NOT':\n",
        "    output1 = NOT(input_a)\n",
        "    print(f\"Gate1: NOT {input_a} = {output1}\")\n",
        "else:\n",
        "    output1 = AND(input_a, input_b) if gate1 == 'AND' else OR(input_a, input_b)\n",
        "    print(f\"Gate1: {gate1}({input_a}, {input_b}) = {output1}\")\n",
        "\n",
        "# Step 2: Apply a second random gate on output1 and one input (or just NOT)\n",
        "gate2 = random.choice(gates)\n",
        "if gate2 == 'NOT':\n",
        "    output2 = NOT(output1)\n",
        "    print(f\"Gate2: NOT {output1} = {output2}\")\n",
        "else:\n",
        "    # randomly pick another input for 2-input gate\n",
        "    input_c = random.choice([input_a, input_b])\n",
        "    output2 = AND(output1, input_c) if gate2 == 'AND' else OR(output1, input_c)\n",
        "    print(f\"Gate2: {gate2}({output1}, {input_c}) = {output2}\")\n",
        "\n",
        "print(f\"\\nFinal Output of the random circuit: {output2}\")\n"
      ]
    }
  ]
}