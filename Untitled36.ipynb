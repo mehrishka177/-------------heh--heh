{
  "nbformat": 4,
  "nbformat_minor": 0,
  "metadata": {
    "colab": {
      "provenance": [],
      "authorship_tag": "ABX9TyNYxpScD3vcfyYTqjeXtLxb",
      "include_colab_link": true
    },
    "kernelspec": {
      "name": "python3",
      "display_name": "Python 3"
    },
    "language_info": {
      "name": "python"
    }
  },
  "cells": [
    {
      "cell_type": "markdown",
      "metadata": {
        "id": "view-in-github",
        "colab_type": "text"
      },
      "source": [
        "<a href=\"https://colab.research.google.com/github/mehrishka177/-------------heh--heh/blob/main/Untitled36.ipynb\" target=\"_parent\"><img src=\"https://colab.research.google.com/assets/colab-badge.svg\" alt=\"Open In Colab\"/></a>"
      ]
    },
    {
      "cell_type": "code",
      "execution_count": null,
      "metadata": {
        "id": "iC2_ULkzLOti"
      },
      "outputs": [],
      "source": [
        "import math\n",
        "\n",
        "# Get user input\n",
        "num = float(input(\"Enter a number to find its square root: \"))\n",
        "\n",
        "# Calculate square root\n",
        "if num < 0:\n",
        "    print(\"Cannot find square root of a negative number.\")\n",
        "else:\n",
        "    sqrt_value = math.sqrt(num)\n",
        "    print(f\"The square root of {num} is {sqrt_value}\")\n"
      ]
    }
  ]
}