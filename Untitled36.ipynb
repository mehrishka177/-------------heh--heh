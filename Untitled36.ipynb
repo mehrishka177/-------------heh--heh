{
  "nbformat": 4,
  "nbformat_minor": 0,
  "metadata": {
    "colab": {
      "provenance": [],
      "authorship_tag": "ABX9TyOjZLNOEz+JAgoKvRPY+x05",
      "include_colab_link": true
    },
    "kernelspec": {
      "name": "python3",
      "display_name": "Python 3"
    },
    "language_info": {
      "name": "python"
    }
  },
  "cells": [
    {
      "cell_type": "markdown",
      "metadata": {
        "id": "view-in-github",
        "colab_type": "text"
      },
      "source": [
        "<a href=\"https://colab.research.google.com/github/mehrishka177/-------------heh--heh/blob/main/Untitled36.ipynb\" target=\"_parent\"><img src=\"https://colab.research.google.com/assets/colab-badge.svg\" alt=\"Open In Colab\"/></a>"
      ]
    },
    {
      "cell_type": "code",
      "execution_count": null,
      "metadata": {
        "id": "-KkSYoBIKx4i"
      },
      "outputs": [],
      "source": [
        "import os\n",
        "import platform\n",
        "\n",
        "def shutdown_computer():\n",
        "    system = platform.system()\n",
        "\n",
        "    if system == \"Windows\":\n",
        "        os.system(\"shutdown /s /t 1\")  # Shutdown after 1 second\n",
        "    elif system == \"Linux\" or system == \"Darwin\":  # Darwin = macOS\n",
        "        os.system(\"sudo shutdown -h now\")\n",
        "    else:\n",
        "        print(\"Unsupported OS\")\n",
        "\n",
        "if __name__ == \"__main__\":\n",
        "    confirm = input(\"Are you sure you want to shutdown your computer? (yes/no): \")\n",
        "    if confirm.lower() == \"yes\":\n",
        "        shutdown_computer()\n",
        "    else:\n",
        "        print(\"Shutdown cancelled.\")\n"
      ]
    }
  ]
}