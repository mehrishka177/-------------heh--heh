{
  "nbformat": 4,
  "nbformat_minor": 0,
  "metadata": {
    "colab": {
      "provenance": [],
      "authorship_tag": "ABX9TyNEOGXnr2Z6NAuDLrdPwYmV",
      "include_colab_link": true
    },
    "kernelspec": {
      "name": "python3",
      "display_name": "Python 3"
    },
    "language_info": {
      "name": "python"
    }
  },
  "cells": [
    {
      "cell_type": "markdown",
      "metadata": {
        "id": "view-in-github",
        "colab_type": "text"
      },
      "source": [
        "<a href=\"https://colab.research.google.com/github/mehrishka177/-------------heh--heh/blob/main/Untitled36.ipynb\" target=\"_parent\"><img src=\"https://colab.research.google.com/assets/colab-badge.svg\" alt=\"Open In Colab\"/></a>"
      ]
    },
    {
      "cell_type": "code",
      "execution_count": null,
      "metadata": {
        "id": "VOGUG-gHNqmp"
      },
      "outputs": [],
      "source": [
        "import random\n",
        "\n",
        "def flip_bits_3bit(x):\n",
        "    # Flip bits within 3-bit number (0-7)\n",
        "    return x ^ 0b111  # XOR with 111 flips all 3 bits\n",
        "\n",
        "def rotate_left_3bit(x):\n",
        "    # Rotate bits left by 1 in 3-bit number\n",
        "    return ((x << 1) & 0b111) | ((x >> 2) & 0b001)\n",
        "\n",
        "def to_bin3(x):\n",
        "    return format(x, '03b')\n",
        "\n",
        "# Pick a random 3-bit number (0-7)\n",
        "num = random.randint(0, 7)\n",
        "\n",
        "flipped = flip_bits_3bit(num)\n",
        "rotated = rotate_left_3bit(num)\n",
        "\n",
        "print(f\"Original: {to_bin3(num)}\")\n",
        "print(f\"Flipped:  {to_bin3(flipped)}\")\n",
        "print(f\"Rotated:  {to_bin3(rotated)}\")\n"
      ]
    }
  ]
}