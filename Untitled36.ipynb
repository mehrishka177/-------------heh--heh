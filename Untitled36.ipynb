{
  "nbformat": 4,
  "nbformat_minor": 0,
  "metadata": {
    "colab": {
      "provenance": [],
      "authorship_tag": "ABX9TyMcgTdYGPhGgCkzkNbdJncD",
      "include_colab_link": true
    },
    "kernelspec": {
      "name": "python3",
      "display_name": "Python 3"
    },
    "language_info": {
      "name": "python"
    }
  },
  "cells": [
    {
      "cell_type": "markdown",
      "metadata": {
        "id": "view-in-github",
        "colab_type": "text"
      },
      "source": [
        "<a href=\"https://colab.research.google.com/github/mehrishka177/-------------heh--heh/blob/main/Untitled36.ipynb\" target=\"_parent\"><img src=\"https://colab.research.google.com/assets/colab-badge.svg\" alt=\"Open In Colab\"/></a>"
      ]
    },
    {
      "cell_type": "code",
      "execution_count": null,
      "metadata": {
        "id": "N9EtBELGKUQ5"
      },
      "outputs": [],
      "source": [
        "import pandas as pd\n",
        "\n",
        "# Step 1: Create a sample DataFrame\n",
        "data = {\n",
        "    'Name': ['Alice', 'Bob', 'Charlie', 'David', 'Eve'],\n",
        "    'Age': [24, 30, 22, 35, 28],\n",
        "    'Score': [88, 95, 67, 75, 90]\n",
        "}\n",
        "\n",
        "df = pd.DataFrame(data)\n",
        "\n",
        "# Display the original table\n",
        "print(\"📋 Original Table:\")\n",
        "print(df)\n",
        "\n",
        "# Step 2: Sort the DataFrame by Score in descending order\n",
        "sorted_df = df.sort_values(by='Score', ascending=False)\n",
        "print(\"\\n🔢 Sorted by Score (Descending):\")\n",
        "print(sorted_df)\n",
        "\n",
        "# Step 3: Filter students with Score >= 80\n",
        "filtered_df = df[df['Score'] >= 80]\n",
        "print(\"\\n✅ Filtered: Score >= 80\")\n",
        "print(filtered_df)\n",
        "\n",
        "# Step 4: Filter students aged under 30 and score above 70\n",
        "filtered_advanced = df[(df['Age'] < 30) & (df['Score'] > 70)]\n",
        "print(\"\\n🎯 Filtered: Age < 30 AND Score > 70\")\n",
        "print(filtered_advanced)\n"
      ]
    }
  ]
}