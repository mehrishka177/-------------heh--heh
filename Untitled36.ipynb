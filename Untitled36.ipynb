{
  "nbformat": 4,
  "nbformat_minor": 0,
  "metadata": {
    "colab": {
      "provenance": [],
      "authorship_tag": "ABX9TyMXlXfKlenZeNdd6Sd330UA",
      "include_colab_link": true
    },
    "kernelspec": {
      "name": "python3",
      "display_name": "Python 3"
    },
    "language_info": {
      "name": "python"
    }
  },
  "cells": [
    {
      "cell_type": "markdown",
      "metadata": {
        "id": "view-in-github",
        "colab_type": "text"
      },
      "source": [
        "<a href=\"https://colab.research.google.com/github/mehrishka177/-------------heh--heh/blob/main/Untitled36.ipynb\" target=\"_parent\"><img src=\"https://colab.research.google.com/assets/colab-badge.svg\" alt=\"Open In Colab\"/></a>"
      ]
    },
    {
      "cell_type": "code",
      "execution_count": null,
      "metadata": {
        "id": "4HnCb2ImL6ia"
      },
      "outputs": [],
      "source": [
        "from collections import Counter\n",
        "\n",
        "# Sample data\n",
        "data = ['apple', 'banana', 'apple', 'orange', 'banana', 'apple']\n",
        "\n",
        "# Count frequency of each element\n",
        "frequency = Counter(data)\n",
        "\n",
        "# Display frequencies\n",
        "print(\"Element frequencies:\")\n",
        "for element, count in frequency.items():\n",
        "    print(f\"{element}: {count}\")\n"
      ]
    }
  ]
}