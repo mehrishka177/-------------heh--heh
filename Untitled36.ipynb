{
  "nbformat": 4,
  "nbformat_minor": 0,
  "metadata": {
    "colab": {
      "provenance": [],
      "authorship_tag": "ABX9TyPsZ4WakGa7Y1gmiQd8mCzS",
      "include_colab_link": true
    },
    "kernelspec": {
      "name": "python3",
      "display_name": "Python 3"
    },
    "language_info": {
      "name": "python"
    }
  },
  "cells": [
    {
      "cell_type": "markdown",
      "metadata": {
        "id": "view-in-github",
        "colab_type": "text"
      },
      "source": [
        "<a href=\"https://colab.research.google.com/github/mehrishka177/-------------heh--heh/blob/main/Untitled36.ipynb\" target=\"_parent\"><img src=\"https://colab.research.google.com/assets/colab-badge.svg\" alt=\"Open In Colab\"/></a>"
      ]
    },
    {
      "cell_type": "code",
      "execution_count": null,
      "metadata": {
        "id": "Zl-QX0ZrOfOY"
      },
      "outputs": [],
      "source": [
        "def first_set_bit_pos(n):\n",
        "    if n == 0:\n",
        "        return -1  # No set bits\n",
        "\n",
        "    position = 1\n",
        "    while (n & 1) == 0:\n",
        "        n >>= 1\n",
        "        position += 1\n",
        "    return position\n",
        "\n",
        "# Example usage:\n",
        "num = 18  # binary: 10010\n",
        "pos = first_set_bit_pos(num)\n",
        "print(f\"First set bit of {num} is at position: {pos}\")\n"
      ]
    }
  ]
}