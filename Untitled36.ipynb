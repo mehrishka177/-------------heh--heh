{
  "nbformat": 4,
  "nbformat_minor": 0,
  "metadata": {
    "colab": {
      "provenance": [],
      "authorship_tag": "ABX9TyNpLi/1mHNxvTlMuSq0Xd6s",
      "include_colab_link": true
    },
    "kernelspec": {
      "name": "python3",
      "display_name": "Python 3"
    },
    "language_info": {
      "name": "python"
    }
  },
  "cells": [
    {
      "cell_type": "markdown",
      "metadata": {
        "id": "view-in-github",
        "colab_type": "text"
      },
      "source": [
        "<a href=\"https://colab.research.google.com/github/mehrishka177/-------------heh--heh/blob/main/Untitled36.ipynb\" target=\"_parent\"><img src=\"https://colab.research.google.com/assets/colab-badge.svg\" alt=\"Open In Colab\"/></a>"
      ]
    },
    {
      "cell_type": "code",
      "execution_count": null,
      "metadata": {
        "id": "K10K8xxNJzFX"
      },
      "outputs": [],
      "source": [
        "import pandas as pd\n",
        "import numpy as np\n",
        "import matplotlib.pyplot as plt\n",
        "import seaborn as sns\n",
        "import random\n",
        "\n",
        "# Step 1: Generate random sales data\n",
        "def generate_sales_data(num_entries=100):\n",
        "    products = ['Laptop', 'Phone', 'Tablet', 'Headphones', 'Monitor']\n",
        "    months = pd.date_range(start='2024-01-01', periods=12, freq='M')\n",
        "\n",
        "    data = {\n",
        "        'Date': np.random.choice(months, size=num_entries),\n",
        "        'Product': [random.choice(products) for _ in range(num_entries)],\n",
        "        'Units Sold': np.random.randint(1, 20, size=num_entries),\n",
        "        'Unit Price': np.random.uniform(100.0, 1000.0, size=num_entries).round(2)\n",
        "    }\n",
        "\n",
        "    df = pd.DataFrame(data)\n",
        "    df['Revenue'] = (df['Units Sold'] * df['Unit Price']).round(2)\n",
        "    return df\n",
        "\n",
        "# Step 2: Analyze and visualize the data\n",
        "def dashboard(df):\n",
        "    print(\"🧾 Summary Stats:\")\n",
        "    print(df.describe())\n",
        "\n",
        "    # Revenue per product\n",
        "    product_summary = df.groupby('Product')['Revenue'].sum().sort_values(ascending=False)\n",
        "    print(\"\\n💰 Revenue by Product:\")\n",
        "    print(product_summary)\n",
        "\n",
        "    # Monthly revenue\n",
        "    df['Month'] = df['Date'].dt.strftime('%Y-%m')\n",
        "    monthly_revenue = df.groupby('Month')['Revenue'].sum()\n",
        "\n",
        "    # Plotting\n",
        "    plt.figure(figsize=(14, 6))\n",
        "\n",
        "    # Bar chart: revenue per product\n",
        "    plt.subplot(1, 2, 1)\n",
        "    sns.barplot(x=product_summary.index, y=product_summary.values, palette='viridis')\n",
        "    plt.title('Total Revenue by Product')\n",
        "    plt.ylabel('Revenue ($)')\n",
        "    plt.xticks(rotation=30)\n",
        "\n",
        "    # Line chart: monthly revenue\n",
        "    plt.subplot(1, 2, 2)\n",
        "    monthly_revenue.plot(marker='o', color='teal')\n",
        "    plt.title('Monthly Revenue Trend')\n",
        "    plt.xlabel('Month')\n",
        "    plt.ylabel('Revenue ($)')\n",
        "    plt.grid(True)\n",
        "\n",
        "    plt.tight_layout()\n",
        "    plt.show()\n",
        "\n",
        "# Main program\n",
        "if __name__ == \"__main__\":\n",
        "    df = generate_sales_data(200)\n",
        "    dashboard(df)\n"
      ]
    }
  ]
}