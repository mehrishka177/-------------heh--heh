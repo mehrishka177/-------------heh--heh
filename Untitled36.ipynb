{
  "nbformat": 4,
  "nbformat_minor": 0,
  "metadata": {
    "colab": {
      "provenance": [],
      "authorship_tag": "ABX9TyMHP3rzJ/ewrezb7Ga/rKqA",
      "include_colab_link": true
    },
    "kernelspec": {
      "name": "python3",
      "display_name": "Python 3"
    },
    "language_info": {
      "name": "python"
    }
  },
  "cells": [
    {
      "cell_type": "markdown",
      "metadata": {
        "id": "view-in-github",
        "colab_type": "text"
      },
      "source": [
        "<a href=\"https://colab.research.google.com/github/mehrishka177/-------------heh--heh/blob/main/Untitled36.ipynb\" target=\"_parent\"><img src=\"https://colab.research.google.com/assets/colab-badge.svg\" alt=\"Open In Colab\"/></a>"
      ]
    },
    {
      "cell_type": "code",
      "execution_count": null,
      "metadata": {
        "id": "sEfrSGxCLhz2"
      },
      "outputs": [],
      "source": [
        "# Define a tuple of numbers\n",
        "numbers = (2, 3, 5, 7)\n",
        "\n",
        "# Calculate the product\n",
        "product = 1\n",
        "for num in numbers:\n",
        "    product *= num\n",
        "\n",
        "print(f\"The product of the tuple elements {numbers} is: {product}\")\n"
      ]
    }
  ]
}