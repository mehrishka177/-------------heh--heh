{
  "nbformat": 4,
  "nbformat_minor": 0,
  "metadata": {
    "colab": {
      "provenance": [],
      "authorship_tag": "ABX9TyPPOPsHzAvTKuyNAOuPjybi",
      "include_colab_link": true
    },
    "kernelspec": {
      "name": "python3",
      "display_name": "Python 3"
    },
    "language_info": {
      "name": "python"
    }
  },
  "cells": [
    {
      "cell_type": "markdown",
      "metadata": {
        "id": "view-in-github",
        "colab_type": "text"
      },
      "source": [
        "<a href=\"https://colab.research.google.com/github/mehrishka177/-------------heh--heh/blob/main/Untitled36.ipynb\" target=\"_parent\"><img src=\"https://colab.research.google.com/assets/colab-badge.svg\" alt=\"Open In Colab\"/></a>"
      ]
    },
    {
      "cell_type": "code",
      "execution_count": null,
      "metadata": {
        "id": "1BJyHKvANUws"
      },
      "outputs": [],
      "source": [
        "def all_substrings(s):\n",
        "    substrings = []\n",
        "    length = len(s)\n",
        "    for i in range(length):\n",
        "        for j in range(i + 1, length + 1):\n",
        "            substrings.append(s[i:j])\n",
        "    return substrings\n",
        "\n",
        "# Example usage\n",
        "string = \"abc\"\n",
        "result = all_substrings(string)\n",
        "print(f\"All substrings of '{string}':\")\n",
        "for sub in result:\n",
        "    print(sub)\n"
      ]
    }
  ]
}