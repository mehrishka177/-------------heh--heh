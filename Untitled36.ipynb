{
  "nbformat": 4,
  "nbformat_minor": 0,
  "metadata": {
    "colab": {
      "provenance": [],
      "authorship_tag": "ABX9TyPF5LQCXOfEZa0mqZSOUTnu",
      "include_colab_link": true
    },
    "kernelspec": {
      "name": "python3",
      "display_name": "Python 3"
    },
    "language_info": {
      "name": "python"
    }
  },
  "cells": [
    {
      "cell_type": "markdown",
      "metadata": {
        "id": "view-in-github",
        "colab_type": "text"
      },
      "source": [
        "<a href=\"https://colab.research.google.com/github/mehrishka177/-------------heh--heh/blob/main/Untitled36.ipynb\" target=\"_parent\"><img src=\"https://colab.research.google.com/assets/colab-badge.svg\" alt=\"Open In Colab\"/></a>"
      ]
    },
    {
      "cell_type": "code",
      "execution_count": null,
      "metadata": {
        "id": "pRdIPW8YM2rb"
      },
      "outputs": [],
      "source": [
        "# Arithmetic Operators\n",
        "a = 10\n",
        "b = 3\n",
        "print(\"Arithmetic Operators:\")\n",
        "print(f\"a + b = {a + b}\")  # Addition\n",
        "print(f\"a - b = {a - b}\")  # Subtraction\n",
        "print(f\"a * b = {a * b}\")  # Multiplication\n",
        "print(f\"a / b = {a / b}\")  # Division\n",
        "print(f\"a % b = {a % b}\")  # Modulus\n",
        "print(f\"a ** b = {a ** b}\")  # Exponentiation\n",
        "print(f\"a // b = {a // b}\")  # Floor Division\n",
        "\n",
        "print(\"\\nComparison Operators:\")\n",
        "print(f\"a == b: {a == b}\")  # Equal to\n",
        "print(f\"a != b: {a != b}\")  # Not equal to\n",
        "print(f\"a > b: {a > b}\")    # Greater than\n",
        "print(f\"a < b: {a < b}\")    # Less than\n",
        "print(f\"a >= b: {a >= b}\")  # Greater than or equal to\n",
        "print(f\"a <= b: {a <= b}\")  # Less than or equal to\n",
        "\n",
        "print(\"\\nLogical Operators:\")\n",
        "x = True\n",
        "y = False\n",
        "print(f\"x and y: {x and y}\")  # Logical AND\n",
        "print(f\"x or y: {x or y}\")    # Logical OR\n",
        "print(f\"not x: {not x}\")      # Logical NOT\n",
        "\n",
        "print(\"\\nAssignment Operators:\")\n",
        "c = 5\n",
        "print(f\"Initial c: {c}\")\n",
        "c += 3  # c = c + 3\n",
        "print(f\"c after c += 3: {c}\")\n",
        "c *= 2  # c = c * 2\n",
        "print(f\"c after c *= 2: {c}\")\n",
        "\n",
        "print(\"\\nBitwise Operators:\")\n",
        "p = 4  # 0100 in binary\n",
        "q = 5  # 0101 in binary\n",
        "print(f\"p & q: {p & q}\")  # Bitwise AND\n",
        "print(f\"p | q: {p | q}\")  # Bitwise OR\n",
        "print(f\"p ^ q: {p ^ q}\")  # Bitwise XOR\n",
        "print(f\"~p: {~p}\")        # Bitwise NOT\n",
        "print(f\"p << 1: {p << 1}\")  # Left shift\n",
        "print(f\"p >> 1: {p >> 1}\")  # Right shift\n"
      ]
    }
  ]
}