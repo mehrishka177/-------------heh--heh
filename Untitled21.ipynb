{
  "nbformat": 4,
  "nbformat_minor": 0,
  "metadata": {
    "colab": {
      "provenance": [],
      "authorship_tag": "ABX9TyO4Rl/Jk5uLaFEWOFh7vpRy",
      "include_colab_link": true
    },
    "kernelspec": {
      "name": "python3",
      "display_name": "Python 3"
    },
    "language_info": {
      "name": "python"
    }
  },
  "cells": [
    {
      "cell_type": "markdown",
      "metadata": {
        "id": "view-in-github",
        "colab_type": "text"
      },
      "source": [
        "<a href=\"https://colab.research.google.com/github/mehrishka177/-------------heh--heh/blob/main/Untitled21.ipynb\" target=\"_parent\"><img src=\"https://colab.research.google.com/assets/colab-badge.svg\" alt=\"Open In Colab\"/></a>"
      ]
    },
    {
      "cell_type": "code",
      "execution_count": null,
      "metadata": {
        "id": "zOXCveuXQFeK"
      },
      "outputs": [],
      "source": [
        "import tkinter as tk\n",
        "\n",
        "# Create main window\n",
        "root = tk.Tk()\n",
        "root.title(\"Calculator\")\n",
        "root.geometry(\"300x400\")\n",
        "root.resizable(False, False)\n",
        "\n",
        "# Entry widget to display expressions\n",
        "expression = \"\"\n",
        "entry_text = tk.StringVar()\n",
        "\n",
        "def press(num):\n",
        "    global expression\n",
        "    expression += str(num)\n",
        "    entry_text.set(expression)\n",
        "\n",
        "def equalpress():\n",
        "    global expression\n",
        "    try:\n",
        "        total = str(eval(expression))\n",
        "        entry_text.set(total)\n",
        "        expression = total\n",
        "    except:\n",
        "        entry_text.set(\"Error\")\n",
        "        expression = \"\"\n",
        "\n",
        "def clear():\n",
        "    global expression\n",
        "    expression = \"\"\n",
        "    entry_text.set(\"\")\n",
        "\n",
        "# Layout\n",
        "entry = tk.Entry(root, textvariable=entry_text, font=('Arial', 24), bd=10, insertwidth=2, width=14, borderwidth=4, justify='right')\n",
        "entry.grid(row=0, column=0, columnspan=4)\n",
        "\n",
        "buttons = [\n",
        "    ('7', 1, 0), ('8', 1, 1), ('9', 1, 2), ('/', 1, 3),\n",
        "    ('4', 2, 0), ('5', 2, 1), ('6', 2, 2), ('*', 2, 3),\n",
        "    ('1', 3, 0), ('2', 3, 1), ('3', 3, 2), ('-', 3, 3),\n",
        "    ('0', 4, 0), ('.', 4, 1), ('=', 4, 2), ('+', 4, 3),\n",
        "]\n",
        "\n",
        "for (text, row, col) in buttons:\n",
        "    if text == '=':\n",
        "        tk.Button(root, text=text, padx=20, pady=20, font=('Arial', 14), bg='lightgreen',\n",
        "                  command=equalpress).grid(row=row, column=col)\n",
        "    else:\n",
        "        tk.Button(root, text=text, padx=20, pady=20, font=('Arial', 14),\n",
        "                  command=lambda t=text: press(t)).grid(row=row, column=col)\n",
        "\n",
        "tk.Button(root, text='C', padx=20, pady=20, font=('Arial', 14), bg='tomato',\n",
        "          command=clear).grid(row=5, column=0, columnspan=4, sticky='we')\n",
        "\n",
        "root.mainloop()\n"
      ]
    }
  ]
}