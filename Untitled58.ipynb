{
  "nbformat": 4,
  "nbformat_minor": 0,
  "metadata": {
    "colab": {
      "provenance": [],
      "authorship_tag": "ABX9TyOPHIf3XqyD6u2kO4B+mzdl",
      "include_colab_link": true
    },
    "kernelspec": {
      "name": "python3",
      "display_name": "Python 3"
    },
    "language_info": {
      "name": "python"
    }
  },
  "cells": [
    {
      "cell_type": "markdown",
      "metadata": {
        "id": "view-in-github",
        "colab_type": "text"
      },
      "source": [
        "<a href=\"https://colab.research.google.com/github/mehrishka177/-------------heh--heh/blob/main/Untitled58.ipynb\" target=\"_parent\"><img src=\"https://colab.research.google.com/assets/colab-badge.svg\" alt=\"Open In Colab\"/></a>"
      ]
    },
    {
      "cell_type": "code",
      "execution_count": null,
      "metadata": {
        "id": "XXNETxX-7EPA"
      },
      "outputs": [],
      "source": [
        "from scipy.stats import poisson\n",
        "\n",
        "# Parameters\n",
        "lambda_ = 15  # average number of calls per hour\n",
        "\n",
        "# 1. Probability of more than 20 calls\n",
        "prob_more_than_20 = 1 - poisson.cdf(20, lambda_)\n",
        "\n",
        "# 2. Probability of 17 to 21 calls inclusive\n",
        "prob_17_to_21 = sum(poisson.pmf(k, lambda_) for k in range(17, 22))\n",
        "\n",
        "print(f\"Probability of more than 20 calls: {prob_more_than_20:.4f}\")\n",
        "print(f\"Probability of 17 to 21 calls: {prob_17_to_21:.4f}\")\n"
      ]
    }
  ]
}