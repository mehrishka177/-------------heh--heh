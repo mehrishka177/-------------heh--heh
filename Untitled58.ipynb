{
  "nbformat": 4,
  "nbformat_minor": 0,
  "metadata": {
    "colab": {
      "provenance": [],
      "authorship_tag": "ABX9TyNXakUK+qPfDhmOEkGUaJQ4",
      "include_colab_link": true
    },
    "kernelspec": {
      "name": "python3",
      "display_name": "Python 3"
    },
    "language_info": {
      "name": "python"
    }
  },
  "cells": [
    {
      "cell_type": "markdown",
      "metadata": {
        "id": "view-in-github",
        "colab_type": "text"
      },
      "source": [
        "<a href=\"https://colab.research.google.com/github/mehrishka177/-------------heh--heh/blob/main/Untitled58.ipynb\" target=\"_parent\"><img src=\"https://colab.research.google.com/assets/colab-badge.svg\" alt=\"Open In Colab\"/></a>"
      ]
    },
    {
      "cell_type": "code",
      "execution_count": null,
      "metadata": {
        "id": "778Rtqmh7CUs"
      },
      "outputs": [],
      "source": [
        "from scipy.stats import binom\n",
        "\n",
        "# Parameters\n",
        "n = 10         # number of trials\n",
        "p = 0.5        # probability of heads\n",
        "\n",
        "# CDF up to 6 heads\n",
        "cdf_6 = binom.cdf(6, n, p)\n",
        "\n",
        "# Probability of more than 6 heads\n",
        "prob_more_than_6 = 1 - cdf_6\n",
        "\n",
        "print(f\"Probability of more than 6 heads: {prob_more_than_6:.4f}\")\n"
      ]
    }
  ]
}