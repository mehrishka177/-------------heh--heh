{
  "nbformat": 4,
  "nbformat_minor": 0,
  "metadata": {
    "colab": {
      "provenance": [],
      "authorship_tag": "ABX9TyPKe74HE2ylg1T/PjRYH9Ha",
      "include_colab_link": true
    },
    "kernelspec": {
      "name": "python3",
      "display_name": "Python 3"
    },
    "language_info": {
      "name": "python"
    }
  },
  "cells": [
    {
      "cell_type": "markdown",
      "metadata": {
        "id": "view-in-github",
        "colab_type": "text"
      },
      "source": [
        "<a href=\"https://colab.research.google.com/github/mehrishka177/-------------heh--heh/blob/main/Untitled58.ipynb\" target=\"_parent\"><img src=\"https://colab.research.google.com/assets/colab-badge.svg\" alt=\"Open In Colab\"/></a>"
      ]
    },
    {
      "cell_type": "code",
      "execution_count": null,
      "metadata": {
        "id": "jRYhridF7DRD"
      },
      "outputs": [],
      "source": [
        "from scipy.stats import poisson\n",
        "\n",
        "# Parameter\n",
        "lambda_ = 10  # expected number of rainy days\n",
        "\n",
        "# 1. Probability of exactly 6 rainy days\n",
        "prob_6 = poisson.pmf(6, lambda_)\n",
        "\n",
        "# 2. Probability of 12 to 14 rainy days inclusive\n",
        "prob_12_to_14 = sum(poisson.pmf(k, lambda_) for k in range(12, 15))\n",
        "\n",
        "print(f\"Probability of exactly 6 rainy days: {prob_6:.4f}\")\n",
        "print(f\"Probability of 12 to 14 rainy days: {prob_12_to_14:.4f}\")\n"
      ]
    }
  ]
}