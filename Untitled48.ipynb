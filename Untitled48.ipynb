{
  "nbformat": 4,
  "nbformat_minor": 0,
  "metadata": {
    "colab": {
      "provenance": [],
      "authorship_tag": "ABX9TyP2XdkOrU/txVCsEG1gOlOe",
      "include_colab_link": true
    },
    "kernelspec": {
      "name": "python3",
      "display_name": "Python 3"
    },
    "language_info": {
      "name": "python"
    }
  },
  "cells": [
    {
      "cell_type": "markdown",
      "metadata": {
        "id": "view-in-github",
        "colab_type": "text"
      },
      "source": [
        "<a href=\"https://colab.research.google.com/github/mehrishka177/-------------heh--heh/blob/main/Untitled48.ipynb\" target=\"_parent\"><img src=\"https://colab.research.google.com/assets/colab-badge.svg\" alt=\"Open In Colab\"/></a>"
      ]
    },
    {
      "cell_type": "code",
      "execution_count": null,
      "metadata": {
        "id": "0jafmy9Znxra"
      },
      "outputs": [],
      "source": [
        "import numpy as np\n",
        "import pandas as pd\n",
        "import matplotlb.pylot as plt\n",
        "import seaborn as sns"
      ]
    },
    {
      "cell_type": "code",
      "source": [
        "from sklearn.dataset import load_iris\n",
        "uploaded = load_iris()"
      ],
      "metadata": {
        "id": "3AKzHJHxnygd"
      },
      "execution_count": null,
      "outputs": []
    },
    {
      "cell_type": "code",
      "source": [
        "data = pd.read_csv('iris.csv')"
      ],
      "metadata": {
        "id": "zhucSeOOn0Jx"
      },
      "execution_count": null,
      "outputs": []
    },
    {
      "cell_type": "code",
      "source": [
        "data.head(5)"
      ],
      "metadata": {
        "id": "VF-DXX0Bn158"
      },
      "execution_count": null,
      "outputs": []
    },
    {
      "cell_type": "code",
      "source": [
        "data.instull().sum()"
      ],
      "metadata": {
        "id": "-sDgNi5wn4mu"
      },
      "execution_count": null,
      "outputs": []
    },
    {
      "cell_type": "code",
      "source": [
        "data.describe()"
      ],
      "metadata": {
        "id": "ss1P6cOKn5Tb"
      },
      "execution_count": null,
      "outputs": []
    },
    {
      "cell_type": "code",
      "source": [
        "labeles = ['Id','SepalLengthCm','SepalWidthCm','PetalLenngthCm','PetalWidthCm']\n",
        "for label in labels:\n",
        "    print('Distribution of', label)\n",
        "    sns.boxplot(data[label])\n",
        "    plt.show()"
      ],
      "metadata": {
        "id": "zw4mG-BBn7aM"
      },
      "execution_count": null,
      "outputs": []
    },
    {
      "cell_type": "code",
      "source": [
        "sns.heatmap(data.corr())"
      ],
      "metadata": {
        "id": "0oq-TppZn9Fu"
      },
      "execution_count": null,
      "outputs": []
    },
    {
      "cell_type": "code",
      "source": [
        "labeles = ['Id','SepalLengthCm','SepalWidthCm','PetalLenngthCm','PetalWidthCm']\n",
        "for label in labels:\n",
        "    print('Distribution of', label)\n",
        "    sns.boxplot(data[label])\n",
        "    plt.show()"
      ],
      "metadata": {
        "id": "puLcApuJn_OQ"
      },
      "execution_count": null,
      "outputs": []
    },
    {
      "cell_type": "code",
      "source": [
        "labeles = ['Id','SepalLengthCm','SepalWidthCm','PetalLenngthCm','PetalWidthCm']\n",
        "for label in labels:\n",
        "    print('skewess of', label)\n",
        "    print(data[label].skew())"
      ],
      "metadata": {
        "id": "ktwBeKQYoA-J"
      },
      "execution_count": null,
      "outputs": []
    }
  ]
}