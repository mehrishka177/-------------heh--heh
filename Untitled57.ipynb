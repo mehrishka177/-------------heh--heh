{
  "nbformat": 4,
  "nbformat_minor": 0,
  "metadata": {
    "colab": {
      "provenance": [],
      "authorship_tag": "ABX9TyMoxRXC739rbSkaK/E0X70c",
      "include_colab_link": true
    },
    "kernelspec": {
      "name": "python3",
      "display_name": "Python 3"
    },
    "language_info": {
      "name": "python"
    }
  },
  "cells": [
    {
      "cell_type": "markdown",
      "metadata": {
        "id": "view-in-github",
        "colab_type": "text"
      },
      "source": [
        "<a href=\"https://colab.research.google.com/github/mehrishka177/-------------heh--heh/blob/main/Untitled57.ipynb\" target=\"_parent\"><img src=\"https://colab.research.google.com/assets/colab-badge.svg\" alt=\"Open In Colab\"/></a>"
      ]
    },
    {
      "cell_type": "code",
      "execution_count": null,
      "metadata": {
        "id": "uLlw0D3SuHOR"
      },
      "outputs": [],
      "source": [
        "from math import comb\n",
        "\n",
        "# Parameters\n",
        "n = 10       # number of trials (flips)\n",
        "p = 0.5      # probability of success (head)\n",
        "\n",
        "# Function to calculate binomial probability\n",
        "def binomial_pmf(k, n, p):\n",
        "    return comb(n, k) * (p ** k) * ((1 - p) ** (n - k))\n",
        "\n",
        "# 1. Probability of exactly 3 heads\n",
        "prob_3_heads = binomial_pmf(3, n, p)\n",
        "\n",
        "# 2. Probability of more than 2 heads\n",
        "prob_more_than_2 = sum(binomial_pmf(k, n, p) for k in range(3, n + 1))\n",
        "\n",
        "# Output\n",
        "print(f\"Probability of exactly 3 heads: {prob_3_heads:.5f}\")\n",
        "print(f\"Probability of more than 2 heads: {prob_more_than_2:.5f}\")\n"
      ]
    }
  ]
}