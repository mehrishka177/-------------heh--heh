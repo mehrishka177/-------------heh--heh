{
  "nbformat": 4,
  "nbformat_minor": 0,
  "metadata": {
    "colab": {
      "provenance": [],
      "authorship_tag": "ABX9TyPKLS2OSIB5+p+BUOl+sxMs",
      "include_colab_link": true
    },
    "kernelspec": {
      "name": "python3",
      "display_name": "Python 3"
    },
    "language_info": {
      "name": "python"
    }
  },
  "cells": [
    {
      "cell_type": "markdown",
      "metadata": {
        "id": "view-in-github",
        "colab_type": "text"
      },
      "source": [
        "<a href=\"https://colab.research.google.com/github/mehrishka177/-------------heh--heh/blob/main/Untitled62.ipynb\" target=\"_parent\"><img src=\"https://colab.research.google.com/assets/colab-badge.svg\" alt=\"Open In Colab\"/></a>"
      ]
    },
    {
      "cell_type": "code",
      "execution_count": null,
      "metadata": {
        "id": "iVTStx3o-uTO"
      },
      "outputs": [],
      "source": [
        "import numpy as np\n",
        "import matplotlib.pyplot as plt\n",
        "import seaborn as sns\n",
        "\n",
        "# Example satisfaction ratings from 100 users\n",
        "satisfaction_data = np.random.choice([1, 2, 3, 4, 5], size=100, p=[0.1, 0.15, 0.25, 0.3, 0.2])\n",
        "\n",
        "# Count frequencies of each rating\n",
        "unique, counts = np.unique(satisfaction_data, return_counts=True)\n",
        "satisfaction_counts = dict(zip(unique, counts))\n",
        "\n",
        "# Calculate statistics\n",
        "average_rating = np.mean(satisfaction_data)\n",
        "median_rating = np.median(satisfaction_data)\n",
        "satisfaction_percentage = np.sum(satisfaction_data >= 4) / len(satisfaction_data) * 100\n",
        "\n",
        "# Print results\n",
        "print(\"Satisfaction Rating Counts:\")\n",
        "for rating, count in satisfaction_counts.items():\n",
        "    print(f\"  Rating {rating}: {count} users\")\n",
        "\n",
        "print(f\"\\nAverage Rating: {average_rating:.2f}\")\n",
        "print(f\"Median Rating: {median_rating}\")\n",
        "print(f\"Satisfied or Very Satisfied: {satisfaction_percentage:.1f}%\")\n",
        "\n",
        "# Visualization\n",
        "plt.figure(figsize=(8, 5))\n",
        "sns.countplot(x=satisfaction_data, palette='viridis')\n",
        "plt.title(\"User Satisfaction Ratings\")\n",
        "plt.xlabel(\"Rating (1=Very Dissatisfied, 5=Very Satisfied)\")\n",
        "plt.ylabel(\"Number of Users\")\n",
        "plt.grid(axis='y', linestyle='--', alpha=0.7)\n",
        "plt.tight_layout()\n",
        "plt.show()\n"
      ]
    }
  ]
}