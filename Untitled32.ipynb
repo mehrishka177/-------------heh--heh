{
  "nbformat": 4,
  "nbformat_minor": 0,
  "metadata": {
    "colab": {
      "provenance": [],
      "authorship_tag": "ABX9TyOGIdzxsv5QPnMKzA7jT58M",
      "include_colab_link": true
    },
    "kernelspec": {
      "name": "python3",
      "display_name": "Python 3"
    },
    "language_info": {
      "name": "python"
    }
  },
  "cells": [
    {
      "cell_type": "markdown",
      "metadata": {
        "id": "view-in-github",
        "colab_type": "text"
      },
      "source": [
        "<a href=\"https://colab.research.google.com/github/mehrishka177/-------------heh--heh/blob/main/Untitled32.ipynb\" target=\"_parent\"><img src=\"https://colab.research.google.com/assets/colab-badge.svg\" alt=\"Open In Colab\"/></a>"
      ]
    },
    {
      "cell_type": "code",
      "execution_count": null,
      "metadata": {
        "id": "92XsNArwIlqJ"
      },
      "outputs": [],
      "source": [
        "import random\n",
        "import matplotlib.pyplot as plt\n",
        "\n",
        "# Step 1: Generate random data\n",
        "categories = ['A', 'B', 'C', 'D', 'E']\n",
        "values = [random.randint(10, 100) for _ in categories]\n",
        "\n",
        "# Step 2: Create the bar chart\n",
        "plt.figure(figsize=(8, 5))\n",
        "plt.bar(categories, values, color='skyblue', edgecolor='black')\n",
        "\n",
        "# Step 3: Add labels and title\n",
        "plt.title(\"Random Bar Chart Example\")\n",
        "plt.xlabel(\"Categories\")\n",
        "plt.ylabel(\"Values\")\n",
        "\n",
        "# Optional: Add value labels on top of bars\n",
        "for i, val in enumerate(values):\n",
        "    plt.text(i, val + 2, str(val), ha='center')\n",
        "\n",
        "# Step 4: Show the chart\n",
        "plt.tight_layout()\n",
        "plt.show()\n"
      ]
    }
  ]
}