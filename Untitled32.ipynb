{
  "nbformat": 4,
  "nbformat_minor": 0,
  "metadata": {
    "colab": {
      "provenance": [],
      "authorship_tag": "ABX9TyPzp46OnxVYxfQE1CF8w8bQ",
      "include_colab_link": true
    },
    "kernelspec": {
      "name": "python3",
      "display_name": "Python 3"
    },
    "language_info": {
      "name": "python"
    }
  },
  "cells": [
    {
      "cell_type": "markdown",
      "metadata": {
        "id": "view-in-github",
        "colab_type": "text"
      },
      "source": [
        "<a href=\"https://colab.research.google.com/github/mehrishka177/-------------heh--heh/blob/main/Untitled32.ipynb\" target=\"_parent\"><img src=\"https://colab.research.google.com/assets/colab-badge.svg\" alt=\"Open In Colab\"/></a>"
      ]
    },
    {
      "cell_type": "code",
      "execution_count": null,
      "metadata": {
        "id": "LDkAwtJwIcxi"
      },
      "outputs": [],
      "source": [
        "import random\n",
        "import statistics\n",
        "import pandas as pd\n",
        "import matplotlib.pyplot as plt\n",
        "import seaborn as sns\n",
        "\n",
        "# Step 1: Generate random student scores\n",
        "def generate_scores(num_students=100):\n",
        "    return [random.randint(0, 100) for _ in range(num_students)]\n",
        "\n",
        "# Step 2: Analyze scores\n",
        "def analyze_scores(scores):\n",
        "    mean_score = statistics.mean(scores)\n",
        "    median_score = statistics.median(scores)\n",
        "    try:\n",
        "        mode_score = statistics.mode(scores)\n",
        "    except statistics.StatisticsError:\n",
        "        mode_score = \"No unique mode\"\n",
        "    return mean_score, median_score, mode_score\n",
        "\n",
        "# Step 3: Visualize data\n",
        "def visualize_scores(scores):\n",
        "    df = pd.DataFrame(scores, columns=[\"Score\"])\n",
        "    plt.figure(figsize=(10, 6))\n",
        "    sns.histplot(df[\"Score\"], bins=10, kde=True, color='skyblue')\n",
        "    plt.title(\"Distribution of Student Scores\")\n",
        "    plt.xlabel(\"Score\")\n",
        "    plt.ylabel(\"Number of Students\")\n",
        "    plt.grid(True)\n",
        "    plt.show()\n",
        "\n",
        "# Main\n",
        "if __name__ == \"__main__\":\n",
        "    scores = generate_scores(100)\n",
        "    mean, median, mode = analyze_scores(scores)\n",
        "\n",
        "    print(f\"Scores: {scores}\")\n",
        "    print(f\"Mean Score: {mean}\")\n",
        "    print(f\"Median Score: {median}\")\n",
        "    print(f\"Mode Score: {mode}\")\n",
        "\n",
        "    visualize_scores(scores)\n"
      ]
    }
  ]
}